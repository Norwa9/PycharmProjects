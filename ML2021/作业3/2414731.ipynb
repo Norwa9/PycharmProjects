{
 "cells": [
  {
   "cell_type": "markdown",
   "metadata": {
    "collapsed": false
   },
   "source": [
    "# 作业02：Fashion Mnist实现图像分类\n",
    "\n",
    "## 1 概述\n",
    "Fashion-MNIST是一个替代MNIST手写数字集的图像数据集，它是由Zalando（一家德国的时尚科技公司）旗下的研究部门提供。其涵盖了来自10种类别的共7万个不同商品的正面图片。Fashion-MNIST的大小、格式和训练集/测试集划分与原始的MNIST完全一致。数据集按照60000/10000的比例进行训练测试数据划分，全部数据均为28x28的灰度图片。\n",
    "\n",
    "**基本要求**：\n",
    "1. 使用卷积神经网络完成Fashion-MNIST的分类任务。\n",
    "2. 在README文件中描述所使用的模型的结构、优化器、损失函数和超参数等信息，以及模型在训练集和测试集上的最优结果。\n",
    "3. 对模型中训练过程损失函数的变化趋势可视化\n",
    "\n",
    "**加分项**：可以对模型进行优化（包括增加层数，使用残差连接，调整超参数等），或者对模型的训练过程/结果进行可视化（例如模型损失函数在训练过程中的变化趋势，或者参数的分布随训练批次的变化趋势等）。"
   ]
  },
  {
   "cell_type": "markdown",
   "metadata": {
    "collapsed": false
   },
   "source": [
    "## 2. 实现模型\n",
    "\n",
    "### 2.1 数据集加载\n",
    "可以通过飞桨自带的`paddle.vision.dataset`进行数据集加载，并且通过`paddle.vision.transforms`对数据进行预处理，例如对数据进行归一化。"
   ]
  },
  {
   "cell_type": "code",
   "execution_count": 1,
   "metadata": {
    "collapsed": false
   },
   "outputs": [
    {
     "name": "stdout",
     "output_type": "stream",
     "text": [
      "2.1.2\n",
      "Paddle版本号为：2.1.2\n"
     ]
    },
    {
     "name": "stderr",
     "output_type": "stream",
     "text": [
      "Cache file /home/aistudio/.cache/paddle/dataset/fashion-mnist/train-images-idx3-ubyte.gz not found, downloading https://dataset.bj.bcebos.com/fashion_mnist/train-images-idx3-ubyte.gz \n",
      "Begin to download\n",
      "\n",
      "Download finished\n",
      "Cache file /home/aistudio/.cache/paddle/dataset/fashion-mnist/train-labels-idx1-ubyte.gz not found, downloading https://dataset.bj.bcebos.com/fashion_mnist/train-labels-idx1-ubyte.gz \n",
      "Begin to download\n",
      "........\n",
      "Download finished\n",
      "Cache file /home/aistudio/.cache/paddle/dataset/fashion-mnist/t10k-images-idx3-ubyte.gz not found, downloading https://dataset.bj.bcebos.com/fashion_mnist/t10k-images-idx3-ubyte.gz \n",
      "Begin to download\n",
      "\n",
      "Download finished\n",
      "Cache file /home/aistudio/.cache/paddle/dataset/fashion-mnist/t10k-labels-idx1-ubyte.gz not found, downloading https://dataset.bj.bcebos.com/fashion_mnist/t10k-labels-idx1-ubyte.gz \n",
      "Begin to download\n",
      "..\n",
      "Download finished\n"
     ]
    }
   ],
   "source": [
    "import paddle\r\n",
    "print(paddle.__version__)\r\n",
    "\r\n",
    "import paddle.vision.transforms as T\r\n",
    "print(\"Paddle版本号为：\"+paddle.__version__)\r\n",
    "\r\n",
    "transform = T.Compose([T.Normalize(mean=[127.5],\r\n",
    "                                   std=[127.5],\r\n",
    "                                   data_format='CHW')])\r\n",
    "\r\n",
    "# 对数据进行归一化\r\n",
    "train_dataset = paddle.vision.datasets.FashionMNIST(mode='train', transform=transform)\r\n",
    "test_dataset = paddle.vision.datasets.FashionMNIST(mode='test', transform=transform)"
   ]
  },
  {
   "cell_type": "markdown",
   "metadata": {
    "collapsed": false
   },
   "source": [
    "### 2.2 模型搭建\n",
    "\n",
    "使用paddle的接口搭建神经网络模型。以LeNet模型为例，该模型与1998年提出，包含了深度学习图像处理相关的基本模块。\n",
    "\n",
    "LeNet模型一共有7层，包括2个**卷积层**，2个**池化层**和3个**全连接层**。通过连续使用卷积层和池化层提取图像特征。Paddle中提供了相应的接口，可以快速搭建网络模型：\n",
    "1. 卷积层：`paddle.nn.Conv2D`；\n",
    "2. 池化层：`paddle.nn.MaxPool2D`；\n",
    "3. 全连接层：`paddle.nn.Linear`。\n",
    "\n",
    "### **作业要求**：搭建神经网络，完成`__init__`和`forward`函数，并在README文件中详细描述所使用模型的信息。"
   ]
  },
  {
   "cell_type": "code",
   "execution_count": 2,
   "metadata": {
    "collapsed": false
   },
   "outputs": [
    {
     "name": "stdout",
     "output_type": "stream",
     "text": [
      "---------------------------------------------------------------------------\n",
      " Layer (type)       Input Shape          Output Shape         Param #    \n",
      "===========================================================================\n",
      "   Conv2D-1       [[1, 1, 28, 28]]      [1, 6, 28, 28]          156      \n",
      "  MaxPool2D-1     [[1, 6, 28, 28]]      [1, 6, 14, 14]           0       \n",
      "   Conv2D-2       [[1, 6, 14, 14]]     [1, 16, 10, 10]         2,416     \n",
      "  MaxPool2D-2    [[1, 16, 10, 10]]      [1, 16, 5, 5]            0       \n",
      "   Linear-1          [[1, 400]]            [1, 120]           48,120     \n",
      "   Linear-2          [[1, 120]]            [1, 84]            10,164     \n",
      "   Linear-3          [[1, 84]]             [1, 10]              850      \n",
      "===========================================================================\n",
      "Total params: 61,706\n",
      "Trainable params: 61,706\n",
      "Non-trainable params: 0\n",
      "---------------------------------------------------------------------------\n",
      "Input size (MB): 0.00\n",
      "Forward/backward pass size (MB): 0.06\n",
      "Params size (MB): 0.24\n",
      "Estimated Total Size (MB): 0.30\n",
      "---------------------------------------------------------------------------\n",
      "\n"
     ]
    },
    {
     "data": {
      "text/plain": [
       "{'total_params': 61706, 'trainable_params': 61706}"
      ]
     },
     "execution_count": 2,
     "metadata": {},
     "output_type": "execute_result"
    }
   ],
   "source": [
    "import paddle.nn.functional as F\r\n",
    "import paddle.nn as nn\r\n",
    "class LeNet(paddle.nn.Layer):\r\n",
    "    def __init__(self):\r\n",
    "        super(LeNet, self).__init__()\r\n",
    "        # 搭建网络\r\n",
    "        self.conv1 = nn.Conv2D(in_channels=1,out_channels=6,kernel_size=5,stride=1,padding=2)\r\n",
    "        self.max_pool1 = nn.MaxPool2D(kernel_size=2,stride=2)\r\n",
    "        self.conv2 = nn.Conv2D(in_channels=6,out_channels=16,kernel_size=5,stride=1)\r\n",
    "        self.max_pool2 = nn.MaxPool2D(kernel_size=2,stride=2)\r\n",
    "        self.linear1 = nn.Linear(in_features=16*5*5,out_features=120)\r\n",
    "        self.linear2 = nn.Linear(in_features=120,out_features=84)\r\n",
    "        self.linear3 = nn.Linear(in_features=84,out_features=10)\r\n",
    "    \r\n",
    "    def forward(self, x):\r\n",
    "        x = self.conv1(x)\r\n",
    "        x = F.relu(x)\r\n",
    "        x = self.max_pool1(x)\r\n",
    "        x = F.relu(x)\r\n",
    "        x = self.conv2(x)\r\n",
    "        x = self.max_pool2(x)\r\n",
    "        x = paddle.flatten(x, start_axis=1 , stop_axis=-1) # [16,5,5] -> [16*5*5]\r\n",
    "        x = self.linear1(x)\r\n",
    "        x = F.relu(x)\r\n",
    "        x = self.linear2(x)\r\n",
    "        x = F.relu(x)\r\n",
    "        x = self.linear3(x)\r\n",
    "        return x\r\n",
    "\r\n",
    "#模型网络结构可视化\r\n",
    "leNet = LeNet()\r\n",
    "paddle.summary(leNet, (-1, 1, 28, 28))"
   ]
  },
  {
   "cell_type": "markdown",
   "metadata": {
    "collapsed": false
   },
   "source": [
    "## 3. 模型配置与训练\n",
    "可以使用`Model`搭建实例，然后使用`model.prepare`接口进行模型的配置，比如优化器、损失函数和评价指标等，也可以使用其他方法配置和训练模型。"
   ]
  },
  {
   "cell_type": "code",
   "execution_count": 3,
   "metadata": {
    "collapsed": false
   },
   "outputs": [],
   "source": [
    "model = paddle.Model(LeNet()) # 用Model封装模型\r\n",
    "\r\n",
    "learning_rate = 0.001\r\n",
    "weight_decay = 5e-4\r\n",
    "num_epochs = 50"
   ]
  },
  {
   "cell_type": "markdown",
   "metadata": {
    "collapsed": false
   },
   "source": [
    "### **作业要求**：完成训练过程可视化的相关函数，训练模型并保存可视化结果。"
   ]
  },
  {
   "cell_type": "code",
   "execution_count": 4,
   "metadata": {
    "collapsed": false
   },
   "outputs": [
    {
     "name": "stderr",
     "output_type": "stream",
     "text": [
      "/opt/conda/envs/python35-paddle120-env/lib/python3.7/site-packages/matplotlib/__init__.py:107: DeprecationWarning: Using or importing the ABCs from 'collections' instead of from 'collections.abc' is deprecated, and in 3.8 it will stop working\n",
      "  from collections import MutableMapping\n",
      "/opt/conda/envs/python35-paddle120-env/lib/python3.7/site-packages/matplotlib/rcsetup.py:20: DeprecationWarning: Using or importing the ABCs from 'collections' instead of from 'collections.abc' is deprecated, and in 3.8 it will stop working\n",
      "  from collections import Iterable, Mapping\n",
      "/opt/conda/envs/python35-paddle120-env/lib/python3.7/site-packages/matplotlib/colors.py:53: DeprecationWarning: Using or importing the ABCs from 'collections' instead of from 'collections.abc' is deprecated, and in 3.8 it will stop working\n",
      "  from collections import Sized\n"
     ]
    }
   ],
   "source": [
    "import matplotlib.pyplot as plt\r\n",
    "\r\n",
    "def DrawLossFunction(y):\r\n",
    "    title=\"training loss\"\r\n",
    "    plt.title(title, fontsize=24)\r\n",
    "    plt.xlabel(\"iters\", fontsize=14)\r\n",
    "    plt.ylabel(\"loss\", fontsize=14)\r\n",
    "    x = [idx for idx in range(len(y))]\r\n",
    "    plt.plot(x, y,color='red',label='training loss') \r\n",
    "    plt.grid()\r\n",
    "    plt.show()\r\n",
    "\r\n",
    "def DrawAccuracy(y):\r\n",
    "    title=\"training accuracy\"\r\n",
    "    plt.title(title, fontsize=24)\r\n",
    "    plt.xlabel(\"epoch\", fontsize=14)\r\n",
    "    plt.ylabel(\"acc\", fontsize=14)\r\n",
    "    x = [idx for idx in range(len(y))]\r\n",
    "    plt.plot(x, y,color='red',label='training acc') \r\n",
    "    plt.grid()\r\n",
    "    plt.show()"
   ]
  },
  {
   "cell_type": "code",
   "execution_count": 5,
   "metadata": {
    "collapsed": false
   },
   "outputs": [
    {
     "name": "stdout",
     "output_type": "stream",
     "text": [
      "epoch: 0, batch_id: 0, loss is: [2.7550159], acc is: [0.078125]\n",
      "epoch: 0, batch_id: 300, loss is: [0.4777534], acc is: [0.796875]\n",
      "epoch: 0, batch_id: 600, loss is: [0.2829248], acc is: [0.921875]\n",
      "epoch: 0, batch_id: 900, loss is: [0.24119134], acc is: [0.9375]\n",
      "epoch: 1, batch_id: 0, loss is: [0.26564908], acc is: [0.890625]\n",
      "epoch: 1, batch_id: 300, loss is: [0.40073696], acc is: [0.84375]\n",
      "epoch: 1, batch_id: 600, loss is: [0.27481028], acc is: [0.921875]\n",
      "epoch: 1, batch_id: 900, loss is: [0.31328732], acc is: [0.90625]\n",
      "epoch: 2, batch_id: 0, loss is: [0.3933179], acc is: [0.859375]\n",
      "epoch: 2, batch_id: 300, loss is: [0.19875698], acc is: [0.890625]\n",
      "epoch: 2, batch_id: 600, loss is: [0.19362886], acc is: [0.921875]\n",
      "epoch: 2, batch_id: 900, loss is: [0.3591938], acc is: [0.90625]\n",
      "epoch: 3, batch_id: 0, loss is: [0.3270799], acc is: [0.875]\n",
      "epoch: 3, batch_id: 300, loss is: [0.21550266], acc is: [0.921875]\n",
      "epoch: 3, batch_id: 600, loss is: [0.08306415], acc is: [1.]\n",
      "epoch: 3, batch_id: 900, loss is: [0.38778976], acc is: [0.875]\n",
      "epoch: 4, batch_id: 0, loss is: [0.27070513], acc is: [0.859375]\n",
      "epoch: 4, batch_id: 300, loss is: [0.22195438], acc is: [0.90625]\n",
      "epoch: 4, batch_id: 600, loss is: [0.2975561], acc is: [0.90625]\n",
      "epoch: 4, batch_id: 900, loss is: [0.2490744], acc is: [0.921875]\n",
      "epoch: 5, batch_id: 0, loss is: [0.16880384], acc is: [0.921875]\n",
      "epoch: 5, batch_id: 300, loss is: [0.2116148], acc is: [0.9375]\n",
      "epoch: 5, batch_id: 600, loss is: [0.2292265], acc is: [0.921875]\n",
      "epoch: 5, batch_id: 900, loss is: [0.21890098], acc is: [0.90625]\n",
      "epoch: 6, batch_id: 0, loss is: [0.22926757], acc is: [0.90625]\n",
      "epoch: 6, batch_id: 300, loss is: [0.21713293], acc is: [0.875]\n",
      "epoch: 6, batch_id: 600, loss is: [0.22510746], acc is: [0.90625]\n",
      "epoch: 6, batch_id: 900, loss is: [0.17521408], acc is: [0.9375]\n",
      "epoch: 7, batch_id: 0, loss is: [0.32512766], acc is: [0.90625]\n",
      "epoch: 7, batch_id: 300, loss is: [0.16168123], acc is: [0.9375]\n",
      "epoch: 7, batch_id: 600, loss is: [0.21740308], acc is: [0.90625]\n",
      "epoch: 7, batch_id: 900, loss is: [0.1646381], acc is: [0.90625]\n",
      "epoch: 8, batch_id: 0, loss is: [0.13824114], acc is: [0.9375]\n",
      "epoch: 8, batch_id: 300, loss is: [0.21352565], acc is: [0.90625]\n",
      "epoch: 8, batch_id: 600, loss is: [0.3886649], acc is: [0.875]\n",
      "epoch: 8, batch_id: 900, loss is: [0.11662661], acc is: [0.953125]\n",
      "epoch: 9, batch_id: 0, loss is: [0.09254952], acc is: [0.984375]\n",
      "epoch: 9, batch_id: 300, loss is: [0.2896018], acc is: [0.921875]\n",
      "epoch: 9, batch_id: 600, loss is: [0.20690054], acc is: [0.921875]\n",
      "epoch: 9, batch_id: 900, loss is: [0.0807634], acc is: [0.984375]\n",
      "epoch: 10, batch_id: 0, loss is: [0.15544647], acc is: [0.953125]\n",
      "epoch: 10, batch_id: 300, loss is: [0.11065772], acc is: [0.953125]\n",
      "epoch: 10, batch_id: 600, loss is: [0.171935], acc is: [0.9375]\n",
      "epoch: 10, batch_id: 900, loss is: [0.15620413], acc is: [0.921875]\n",
      "epoch: 11, batch_id: 0, loss is: [0.18375048], acc is: [0.90625]\n",
      "epoch: 11, batch_id: 300, loss is: [0.11595557], acc is: [0.96875]\n",
      "epoch: 11, batch_id: 600, loss is: [0.18618579], acc is: [0.921875]\n",
      "epoch: 11, batch_id: 900, loss is: [0.16595408], acc is: [0.9375]\n",
      "epoch: 12, batch_id: 0, loss is: [0.18037], acc is: [0.921875]\n",
      "epoch: 12, batch_id: 300, loss is: [0.21662745], acc is: [0.890625]\n",
      "epoch: 12, batch_id: 600, loss is: [0.2338913], acc is: [0.921875]\n",
      "epoch: 12, batch_id: 900, loss is: [0.09252588], acc is: [0.953125]\n",
      "epoch: 13, batch_id: 0, loss is: [0.19956374], acc is: [0.9375]\n",
      "epoch: 13, batch_id: 300, loss is: [0.0894447], acc is: [0.96875]\n",
      "epoch: 13, batch_id: 600, loss is: [0.06366424], acc is: [0.984375]\n",
      "epoch: 13, batch_id: 900, loss is: [0.15895662], acc is: [0.96875]\n",
      "epoch: 14, batch_id: 0, loss is: [0.10532894], acc is: [0.953125]\n",
      "epoch: 14, batch_id: 300, loss is: [0.2506361], acc is: [0.890625]\n",
      "epoch: 14, batch_id: 600, loss is: [0.15113051], acc is: [0.953125]\n",
      "epoch: 14, batch_id: 900, loss is: [0.04459029], acc is: [0.984375]\n",
      "epoch: 15, batch_id: 0, loss is: [0.12591353], acc is: [0.96875]\n",
      "epoch: 15, batch_id: 300, loss is: [0.1068377], acc is: [0.984375]\n",
      "epoch: 15, batch_id: 600, loss is: [0.10683346], acc is: [0.921875]\n",
      "epoch: 15, batch_id: 900, loss is: [0.27095985], acc is: [0.90625]\n",
      "epoch: 16, batch_id: 0, loss is: [0.09846552], acc is: [0.984375]\n",
      "epoch: 16, batch_id: 300, loss is: [0.07822283], acc is: [0.984375]\n",
      "epoch: 16, batch_id: 600, loss is: [0.08157423], acc is: [0.96875]\n",
      "epoch: 16, batch_id: 900, loss is: [0.13796435], acc is: [0.953125]\n",
      "epoch: 17, batch_id: 0, loss is: [0.14434022], acc is: [0.90625]\n",
      "epoch: 17, batch_id: 300, loss is: [0.12767471], acc is: [0.984375]\n",
      "epoch: 17, batch_id: 600, loss is: [0.26810187], acc is: [0.859375]\n",
      "epoch: 17, batch_id: 900, loss is: [0.10946627], acc is: [0.953125]\n",
      "epoch: 18, batch_id: 0, loss is: [0.21762314], acc is: [0.90625]\n",
      "epoch: 18, batch_id: 300, loss is: [0.10413783], acc is: [0.953125]\n",
      "epoch: 18, batch_id: 600, loss is: [0.20879412], acc is: [0.921875]\n",
      "epoch: 18, batch_id: 900, loss is: [0.12621701], acc is: [0.984375]\n",
      "epoch: 19, batch_id: 0, loss is: [0.10030985], acc is: [0.9375]\n",
      "epoch: 19, batch_id: 300, loss is: [0.04589818], acc is: [0.984375]\n",
      "epoch: 19, batch_id: 600, loss is: [0.1495721], acc is: [0.96875]\n",
      "epoch: 19, batch_id: 900, loss is: [0.11716997], acc is: [0.9375]\n",
      "epoch: 20, batch_id: 0, loss is: [0.09705585], acc is: [0.96875]\n",
      "epoch: 20, batch_id: 300, loss is: [0.05626047], acc is: [0.984375]\n",
      "epoch: 20, batch_id: 600, loss is: [0.16849852], acc is: [0.9375]\n",
      "epoch: 20, batch_id: 900, loss is: [0.16332972], acc is: [0.921875]\n",
      "epoch: 21, batch_id: 0, loss is: [0.08102338], acc is: [0.953125]\n",
      "epoch: 21, batch_id: 300, loss is: [0.12274371], acc is: [0.9375]\n",
      "epoch: 21, batch_id: 600, loss is: [0.09673958], acc is: [0.96875]\n",
      "epoch: 21, batch_id: 900, loss is: [0.11122219], acc is: [0.96875]\n",
      "epoch: 22, batch_id: 0, loss is: [0.10315486], acc is: [0.984375]\n",
      "epoch: 22, batch_id: 300, loss is: [0.06903711], acc is: [0.96875]\n",
      "epoch: 22, batch_id: 600, loss is: [0.25529015], acc is: [0.921875]\n",
      "epoch: 22, batch_id: 900, loss is: [0.09491004], acc is: [0.953125]\n",
      "epoch: 23, batch_id: 0, loss is: [0.06872316], acc is: [0.96875]\n",
      "epoch: 23, batch_id: 300, loss is: [0.02638211], acc is: [1.]\n",
      "epoch: 23, batch_id: 600, loss is: [0.1185889], acc is: [0.953125]\n",
      "epoch: 23, batch_id: 900, loss is: [0.2285855], acc is: [0.90625]\n",
      "epoch: 24, batch_id: 0, loss is: [0.2641593], acc is: [0.890625]\n",
      "epoch: 24, batch_id: 300, loss is: [0.05862978], acc is: [0.96875]\n",
      "epoch: 24, batch_id: 600, loss is: [0.09051139], acc is: [0.96875]\n",
      "epoch: 24, batch_id: 900, loss is: [0.08531582], acc is: [0.984375]\n",
      "epoch: 25, batch_id: 0, loss is: [0.09766993], acc is: [0.984375]\n",
      "epoch: 25, batch_id: 300, loss is: [0.13631168], acc is: [0.96875]\n",
      "epoch: 25, batch_id: 600, loss is: [0.17050159], acc is: [0.9375]\n",
      "epoch: 25, batch_id: 900, loss is: [0.20511079], acc is: [0.921875]\n",
      "epoch: 26, batch_id: 0, loss is: [0.08821666], acc is: [0.96875]\n",
      "epoch: 26, batch_id: 300, loss is: [0.06313466], acc is: [1.]\n",
      "epoch: 26, batch_id: 600, loss is: [0.0884229], acc is: [0.96875]\n",
      "epoch: 26, batch_id: 900, loss is: [0.1601056], acc is: [0.9375]\n",
      "epoch: 27, batch_id: 0, loss is: [0.03184784], acc is: [1.]\n",
      "epoch: 27, batch_id: 300, loss is: [0.19061524], acc is: [0.953125]\n",
      "epoch: 27, batch_id: 600, loss is: [0.14846602], acc is: [0.921875]\n",
      "epoch: 27, batch_id: 900, loss is: [0.17330836], acc is: [0.921875]\n",
      "epoch: 28, batch_id: 0, loss is: [0.06806372], acc is: [0.984375]\n",
      "epoch: 28, batch_id: 300, loss is: [0.05261776], acc is: [0.984375]\n",
      "epoch: 28, batch_id: 600, loss is: [0.0882457], acc is: [0.953125]\n",
      "epoch: 28, batch_id: 900, loss is: [0.14107579], acc is: [0.953125]\n",
      "epoch: 29, batch_id: 0, loss is: [0.07747941], acc is: [0.96875]\n",
      "epoch: 29, batch_id: 300, loss is: [0.06337126], acc is: [0.96875]\n",
      "epoch: 29, batch_id: 600, loss is: [0.11748125], acc is: [0.921875]\n",
      "epoch: 29, batch_id: 900, loss is: [0.14730899], acc is: [0.921875]\n",
      "epoch: 30, batch_id: 0, loss is: [0.07216975], acc is: [0.953125]\n",
      "epoch: 30, batch_id: 300, loss is: [0.07575219], acc is: [0.984375]\n",
      "epoch: 30, batch_id: 600, loss is: [0.09296488], acc is: [0.96875]\n",
      "epoch: 30, batch_id: 900, loss is: [0.06927551], acc is: [0.984375]\n",
      "epoch: 31, batch_id: 0, loss is: [0.13866138], acc is: [0.9375]\n",
      "epoch: 31, batch_id: 300, loss is: [0.0371867], acc is: [0.984375]\n",
      "epoch: 31, batch_id: 600, loss is: [0.03714804], acc is: [0.984375]\n",
      "epoch: 31, batch_id: 900, loss is: [0.12143967], acc is: [0.96875]\n",
      "epoch: 32, batch_id: 0, loss is: [0.03650595], acc is: [1.]\n",
      "epoch: 32, batch_id: 300, loss is: [0.15609497], acc is: [0.921875]\n",
      "epoch: 32, batch_id: 600, loss is: [0.04487722], acc is: [0.984375]\n",
      "epoch: 32, batch_id: 900, loss is: [0.04805011], acc is: [0.984375]\n",
      "epoch: 33, batch_id: 0, loss is: [0.10853182], acc is: [0.96875]\n",
      "epoch: 33, batch_id: 300, loss is: [0.08176392], acc is: [0.953125]\n",
      "epoch: 33, batch_id: 600, loss is: [0.10402539], acc is: [0.953125]\n",
      "epoch: 33, batch_id: 900, loss is: [0.09018011], acc is: [0.96875]\n",
      "epoch: 34, batch_id: 0, loss is: [0.09643453], acc is: [0.96875]\n",
      "epoch: 34, batch_id: 300, loss is: [0.07075335], acc is: [0.96875]\n",
      "epoch: 34, batch_id: 600, loss is: [0.18928838], acc is: [0.9375]\n",
      "epoch: 34, batch_id: 900, loss is: [0.0909337], acc is: [0.953125]\n",
      "epoch: 35, batch_id: 0, loss is: [0.08573063], acc is: [0.953125]\n",
      "epoch: 35, batch_id: 300, loss is: [0.13328981], acc is: [0.96875]\n",
      "epoch: 35, batch_id: 600, loss is: [0.13635653], acc is: [0.953125]\n",
      "epoch: 35, batch_id: 900, loss is: [0.07989909], acc is: [0.953125]\n",
      "epoch: 36, batch_id: 0, loss is: [0.03682234], acc is: [1.]\n",
      "epoch: 36, batch_id: 300, loss is: [0.07805888], acc is: [0.96875]\n",
      "epoch: 36, batch_id: 600, loss is: [0.13441047], acc is: [0.96875]\n",
      "epoch: 36, batch_id: 900, loss is: [0.10872127], acc is: [0.953125]\n",
      "epoch: 37, batch_id: 0, loss is: [0.02565314], acc is: [1.]\n",
      "epoch: 37, batch_id: 300, loss is: [0.03466588], acc is: [1.]\n",
      "epoch: 37, batch_id: 600, loss is: [0.11269405], acc is: [0.96875]\n",
      "epoch: 37, batch_id: 900, loss is: [0.12299891], acc is: [0.953125]\n",
      "epoch: 38, batch_id: 0, loss is: [0.02681613], acc is: [1.]\n",
      "epoch: 38, batch_id: 300, loss is: [0.03752592], acc is: [0.984375]\n",
      "epoch: 38, batch_id: 600, loss is: [0.07197916], acc is: [0.984375]\n",
      "epoch: 38, batch_id: 900, loss is: [0.01059549], acc is: [1.]\n",
      "epoch: 39, batch_id: 0, loss is: [0.09342294], acc is: [0.984375]\n",
      "epoch: 39, batch_id: 300, loss is: [0.06120517], acc is: [0.984375]\n",
      "epoch: 39, batch_id: 600, loss is: [0.08911452], acc is: [0.953125]\n",
      "epoch: 39, batch_id: 900, loss is: [0.12094087], acc is: [0.96875]\n",
      "epoch: 40, batch_id: 0, loss is: [0.10035411], acc is: [0.984375]\n",
      "epoch: 40, batch_id: 300, loss is: [0.07954397], acc is: [0.96875]\n",
      "epoch: 40, batch_id: 600, loss is: [0.09327413], acc is: [0.96875]\n",
      "epoch: 40, batch_id: 900, loss is: [0.02924878], acc is: [0.984375]\n",
      "epoch: 41, batch_id: 0, loss is: [0.13424553], acc is: [0.953125]\n",
      "epoch: 41, batch_id: 300, loss is: [0.0663823], acc is: [0.984375]\n",
      "epoch: 41, batch_id: 600, loss is: [0.09357059], acc is: [0.953125]\n",
      "epoch: 41, batch_id: 900, loss is: [0.08192191], acc is: [0.953125]\n",
      "epoch: 42, batch_id: 0, loss is: [0.05459564], acc is: [0.984375]\n",
      "epoch: 42, batch_id: 300, loss is: [0.07098565], acc is: [0.96875]\n",
      "epoch: 42, batch_id: 600, loss is: [0.0652403], acc is: [0.96875]\n",
      "epoch: 42, batch_id: 900, loss is: [0.10417272], acc is: [0.96875]\n",
      "epoch: 43, batch_id: 0, loss is: [0.03067004], acc is: [1.]\n",
      "epoch: 43, batch_id: 300, loss is: [0.1452453], acc is: [0.96875]\n",
      "epoch: 43, batch_id: 600, loss is: [0.0923809], acc is: [0.96875]\n",
      "epoch: 43, batch_id: 900, loss is: [0.07711195], acc is: [0.96875]\n",
      "epoch: 44, batch_id: 0, loss is: [0.14997922], acc is: [0.953125]\n",
      "epoch: 44, batch_id: 300, loss is: [0.0322656], acc is: [1.]\n",
      "epoch: 44, batch_id: 600, loss is: [0.06969801], acc is: [0.984375]\n",
      "epoch: 44, batch_id: 900, loss is: [0.17643073], acc is: [0.9375]\n",
      "epoch: 45, batch_id: 0, loss is: [0.05709867], acc is: [0.984375]\n",
      "epoch: 45, batch_id: 300, loss is: [0.08762494], acc is: [0.96875]\n",
      "epoch: 45, batch_id: 600, loss is: [0.04516146], acc is: [0.984375]\n",
      "epoch: 45, batch_id: 900, loss is: [0.08377867], acc is: [0.953125]\n",
      "epoch: 46, batch_id: 0, loss is: [0.08525386], acc is: [0.96875]\n",
      "epoch: 46, batch_id: 300, loss is: [0.05271436], acc is: [0.984375]\n",
      "epoch: 46, batch_id: 600, loss is: [0.08614182], acc is: [0.96875]\n",
      "epoch: 46, batch_id: 900, loss is: [0.01085379], acc is: [1.]\n",
      "epoch: 47, batch_id: 0, loss is: [0.03334948], acc is: [1.]\n",
      "epoch: 47, batch_id: 300, loss is: [0.0446557], acc is: [0.984375]\n",
      "epoch: 47, batch_id: 600, loss is: [0.02782467], acc is: [0.984375]\n",
      "epoch: 47, batch_id: 900, loss is: [0.12270474], acc is: [0.96875]\n",
      "epoch: 48, batch_id: 0, loss is: [0.01257145], acc is: [1.]\n",
      "epoch: 48, batch_id: 300, loss is: [0.11356557], acc is: [0.953125]\n",
      "epoch: 48, batch_id: 600, loss is: [0.11439107], acc is: [0.9375]\n",
      "epoch: 48, batch_id: 900, loss is: [0.10743551], acc is: [0.953125]\n",
      "epoch: 49, batch_id: 0, loss is: [0.10709493], acc is: [0.9375]\n",
      "epoch: 49, batch_id: 300, loss is: [0.07748902], acc is: [0.96875]\n",
      "epoch: 49, batch_id: 600, loss is: [0.13998768], acc is: [0.953125]\n",
      "epoch: 49, batch_id: 900, loss is: [0.02237736], acc is: [1.]\n"
     ]
    },
    {
     "name": "stderr",
     "output_type": "stream",
     "text": [
      "/opt/conda/envs/python35-paddle120-env/lib/python3.7/site-packages/matplotlib/cbook/__init__.py:2349: DeprecationWarning: Using or importing the ABCs from 'collections' instead of from 'collections.abc' is deprecated, and in 3.8 it will stop working\n",
      "  if isinstance(obj, collections.Iterator):\n",
      "/opt/conda/envs/python35-paddle120-env/lib/python3.7/site-packages/matplotlib/cbook/__init__.py:2366: DeprecationWarning: Using or importing the ABCs from 'collections' instead of from 'collections.abc' is deprecated, and in 3.8 it will stop working\n",
      "  return list(data) if isinstance(data, collections.MappingView) else data\n"
     ]
    },
    {
     "data": {
      "image/png": "[encoded data removed]",
      "text/plain": [
       "<Figure size 432x288 with 1 Axes>"
      ]
     },
     "metadata": {},
     "output_type": "display_data"
    },
    {
     "data": {
      "image/png": "[encoded data removed]",
      "text/plain": [
       "<Figure size 432x288 with 1 Axes>"
      ]
     },
     "metadata": {},
     "output_type": "display_data"
    }
   ],
   "source": [
    "import paddle.nn.functional as F\n",
    "from visualdl import LogWriter\n",
    "import paddle.fluid as fluid\n",
    "\n",
    "train_loader = paddle.io.DataLoader(train_dataset, batch_size=64, shuffle=True)\n",
    "# 加载训练集 batch_size 设为 64\n",
    "train_loss_arr = []\n",
    "acc_arr = []\n",
    "def train(model):\n",
    "    with LogWriter(logdir='./log/train') as writer:\n",
    "        # with fluid.dygraph.guard(place=fluid.CUDAPlace(0)):\n",
    "        model.train()\n",
    "        epochs = num_epochs\n",
    "        # optim = paddle.optimizer.SGD(learning_rate=learning_rate, parameters=model.parameters(),weight_decay=weight_decay)\n",
    "        optim = paddle.optimizer.Adam(learning_rate=learning_rate, parameters=model.parameters(),weight_decay=weight_decay)\n",
    "        loss = 0\n",
    "        acc = 0\n",
    "        Batch = 0\n",
    "\n",
    "        param = model.parameters()\n",
    "        params_name = [param.name for param in model.parameters()]\n",
    "\n",
    "        # 用Adam作为优化函数\n",
    "        for epoch in range(epochs):\n",
    "            for batch_id, data in enumerate(train_loader()):\n",
    "                x_data = data[0]\n",
    "                y_data = data[1]\n",
    "                predicts = model(x_data)\n",
    "                loss = F.cross_entropy(predicts, y_data)\n",
    "                train_loss_arr.append(loss[0].item())\n",
    "                # 计算损失\n",
    "                acc = paddle.metric.accuracy(predicts, y_data)\n",
    "                loss.backward()\n",
    "                if batch_id % 300 == 0:\n",
    "                    Batch += 1\n",
    "                    # histogram组件\n",
    "                    for name_i in range(len(params_name)):\n",
    "                        writer.add_histogram(tag=params_name[name_i], values=param[name_i].numpy(), step=Batch)\n",
    "                    \n",
    "                    print(\"epoch: {}, batch_id: {}, loss is: {}, acc is: {}\".format(epoch, batch_id, loss.numpy(), acc.numpy()))\n",
    "                optim.step()\n",
    "                optim.clear_grad()\n",
    "            acc_arr.append(acc.numpy())\n",
    "            \n",
    "\n",
    "model = LeNet()\n",
    "train(model)\n",
    "DrawLossFunction(train_loss_arr)\n",
    "DrawAccuracy(acc_arr)"
   ]
  },
  {
   "cell_type": "code",
   "execution_count": 6,
   "metadata": {
    "collapsed": false
   },
   "outputs": [
    {
     "name": "stdout",
     "output_type": "stream",
     "text": [
      "batch_id: 0, loss is: [0.46367842], acc is: [0.875]\n",
      "batch_id: 20, loss is: [0.9190521], acc is: [0.859375]\n",
      "batch_id: 40, loss is: [0.47752765], acc is: [0.890625]\n",
      "batch_id: 60, loss is: [0.7083974], acc is: [0.859375]\n",
      "batch_id: 80, loss is: [0.37330002], acc is: [0.875]\n",
      "batch_id: 100, loss is: [0.27477604], acc is: [0.921875]\n",
      "batch_id: 120, loss is: [0.16527501], acc is: [0.953125]\n",
      "batch_id: 140, loss is: [0.20160635], acc is: [0.9375]\n"
     ]
    }
   ],
   "source": [
    "test_loader = paddle.io.DataLoader(test_dataset, places=paddle.CPUPlace(), batch_size=64)\n",
    "# 加载测试数据集\n",
    "def test(model):\n",
    "    model.eval()\n",
    "    batch_size = 64\n",
    "    for batch_id, data in enumerate(test_loader()):\n",
    "        x_data = data[0]\n",
    "        y_data = data[1]\n",
    "        predicts = model(x_data)\n",
    "        # 获取预测结果\n",
    "        loss = F.cross_entropy(predicts, y_data)\n",
    "        acc = paddle.metric.accuracy(predicts, y_data)\n",
    "        if batch_id % 20 == 0:\n",
    "            print(\"batch_id: {}, loss is: {}, acc is: {}\".format(batch_id, loss.numpy(), acc.numpy()))\n",
    "test(model)"
   ]
  }
 ],
 "metadata": {
  "kernelspec": {
   "display_name": "Python 3",
   "language": "python",
   "name": "py35-paddle1.2.0"
  },
  "language_info": {
   "codemirror_mode": {
    "name": "ipython",
    "version": 3
   },
   "file_extension": ".py",
   "mimetype": "text/x-python",
   "name": "python",
   "nbconvert_exporter": "python",
   "pygments_lexer": "ipython3",
   "version": "3.7.4"
  }
 },
 "nbformat": 4,
 "nbformat_minor": 1
}
