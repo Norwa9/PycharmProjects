{
 "cells": [
  {
   "cell_type": "code",
   "execution_count": 2,
   "metadata": {},
   "outputs": [],
   "source": [
    "from visualdl import LogWriter\n",
    "\n",
    "if __name__ == '__main__':\n",
    "    # 初始化一个记录器\n",
    "    logdir =\"./aistudio/log/train/visualdl_log_dir\"\n",
    "    # 创建loss的趋势图\n",
    "    with logwriter.mode(\"train\") as writer:\n",
    "        loss_scalar = writer.scalar(\"loss\")\n",
    "\n",
    "    # 创建acc的趋势图\n",
    "    with logwriter.mode(\"train\") as writer:\n",
    "        acc_scalar = writer.scalar(\"acc\")\n",
    "        \n"
   ]
  },
  {
   "cell_type": "code",
   "execution_count": null,
   "metadata": {},
   "outputs": [],
   "source": []
  }
 ],
 "metadata": {
  "kernelspec": {
   "display_name": "Python 3",
   "language": "python",
   "name": "python3"
  },
  "language_info": {
   "codemirror_mode": {
    "name": "ipython",
    "version": 3
   },
   "file_extension": ".py",
   "mimetype": "text/x-python",
   "name": "python",
   "nbconvert_exporter": "python",
   "pygments_lexer": "ipython3",
   "version": "3.8.3"
  }
 },
 "nbformat": 4,
 "nbformat_minor": 4
}
