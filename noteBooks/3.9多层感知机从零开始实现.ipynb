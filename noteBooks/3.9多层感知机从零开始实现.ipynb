{
 "cells": [
  {
   "cell_type": "code",
   "execution_count": 1,
   "metadata": {},
   "outputs": [],
   "source": [
    "import torch\n",
    "import numpy as np\n",
    "import sys\n",
    "sys.path.append(\"..\")\n",
    "import d2lzh_pytorch as d2l"
   ]
  },
  {
   "cell_type": "code",
   "execution_count": 11,
   "metadata": {},
   "outputs": [],
   "source": [
    "batch_size = 256\n",
    "train_iter, test_iter = d2l.load_data_fashion_mnist(batch_size)"
   ]
  },
  {
   "cell_type": "markdown",
   "metadata": {},
   "source": [
    "# 定义模型参数\n",
    "**requires_grad和requires_grad_的区别**：\n",
    "\n",
    "所有的tensor都有.requires_grad属性，\n",
    "x = tensor.ones(2,4,requires_grad=True)\n",
    "如果想改变这个属性，就调用requires_grad_()方法：\n",
    "x.requires_grad_(False)"
   ]
  },
  {
   "cell_type": "code",
   "execution_count": 12,
   "metadata": {},
   "outputs": [],
   "source": [
    "num_inputs = 28 * 28\n",
    "num_outputs = 10\n",
    "num_hiddens = 256\n",
    "\n",
    "# W1:(784,256)\n",
    "W1 = torch.tensor(np.random.normal(0,0.01,(num_inputs,num_hiddens)), dtype = torch.float)\n",
    "# b1:(256,1)\n",
    "b1 = torch.zeros(num_hiddens, dtype = torch.float)\n",
    "# W2:(256,10)\n",
    "W2 = torch.tensor(np.random.normal(0,0.01,(num_hiddens,num_outputs)), dtype = torch.float)\n",
    "# b2:(10,1)\n",
    "b2 = torch.zeros(num_outputs, dtype = torch.float)\n",
    "\n",
    "params = [W1, b1, W2, b2]\n",
    "for param in params:\n",
    "    param.requires_grad_(requires_grad=True) "
   ]
  },
  {
   "cell_type": "markdown",
   "metadata": {},
   "source": [
    "# 定义激活函数"
   ]
  },
  {
   "cell_type": "code",
   "execution_count": 15,
   "metadata": {},
   "outputs": [],
   "source": [
    "def relu(X):\n",
    "    # input(Tensor): 待比较张量\n",
    "    # other(Tensor): 比较张量\n",
    "    return torch.max(input=X,other=torch.tensor(0.0)) "
   ]
  },
  {
   "cell_type": "markdown",
   "metadata": {},
   "source": [
    "# 定义模型"
   ]
  },
  {
   "cell_type": "code",
   "execution_count": 28,
   "metadata": {},
   "outputs": [],
   "source": [
    "def net(X):\n",
    "    X = X.view(-1,num_inputs)\n",
    "    hidden = torch.matmul(X,W1)+b1\n",
    "    hidden_ReLU = relu(hidden)\n",
    "    outputs = torch.matmul(hidden_ReLU,W2) + b2\n",
    "    return outputs"
   ]
  },
  {
   "cell_type": "markdown",
   "metadata": {},
   "source": [
    "# 定义损失函数"
   ]
  },
  {
   "cell_type": "code",
   "execution_count": 22,
   "metadata": {},
   "outputs": [],
   "source": [
    "loss = torch.nn.CrossEntropyLoss()"
   ]
  },
  {
   "cell_type": "markdown",
   "metadata": {},
   "source": [
    "# 训练模型\n",
    "pytorch版本的代码与原版实现略不相同。\n",
    "\n",
    "为了实现差不多的学习效果，这里将学习率设置为100。\n",
    "\n",
    "所以显得学习率比较大。"
   ]
  },
  {
   "cell_type": "code",
   "execution_count": 29,
   "metadata": {},
   "outputs": [
    {
     "name": "stdout",
     "output_type": "stream",
     "text": [
      "epoch 1, loss 0.0030, train acc 0.711, test acc 0.780\n",
      "epoch 2, loss 0.0019, train acc 0.823, test acc 0.819\n",
      "epoch 3, loss 0.0017, train acc 0.844, test acc 0.833\n",
      "epoch 4, loss 0.0015, train acc 0.857, test acc 0.847\n",
      "epoch 5, loss 0.0014, train acc 0.865, test acc 0.848\n"
     ]
    }
   ],
   "source": [
    "num_epochs = 5\n",
    "lr = 100.0\n",
    "\n",
    "d2l.train_ch3(net,train_iter,test_iter,loss,num_epochs,batch_size,params,lr)"
   ]
  },
  {
   "cell_type": "code",
   "execution_count": null,
   "metadata": {},
   "outputs": [],
   "source": []
  },
  {
   "cell_type": "code",
   "execution_count": null,
   "metadata": {},
   "outputs": [],
   "source": []
  },
  {
   "cell_type": "code",
   "execution_count": null,
   "metadata": {},
   "outputs": [],
   "source": []
  },
  {
   "cell_type": "code",
   "execution_count": null,
   "metadata": {},
   "outputs": [],
   "source": []
  }
 ],
 "metadata": {
  "kernelspec": {
   "display_name": "Python 3",
   "language": "python",
   "name": "python3"
  },
  "language_info": {
   "codemirror_mode": {
    "name": "ipython",
    "version": 3
   },
   "file_extension": ".py",
   "mimetype": "text/x-python",
   "name": "python",
   "nbconvert_exporter": "python",
   "pygments_lexer": "ipython3",
   "version": "3.8.3"
  }
 },
 "nbformat": 4,
 "nbformat_minor": 4
}
