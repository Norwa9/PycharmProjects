{
 "cells": [
  {
   "cell_type": "markdown",
   "id": "d5738c24",
   "metadata": {},
   "source": [
    "**softmax** \n",
    "softmax将输出值变换成值为正且和为1的概率分布，\n",
    "例如[0.1,0,8,0.1]表示分类结果为类别2的概率为80%\n",
    "\n",
    "**交叉熵**\n",
    "我们的训练目标是，使预测概率分布尽可能接近真实的标签概率分布。\n",
    "但是我们并不需要预测概率完全等于标签概率，平方损失函数过于严格。\n",
    "于是使用以下函数（交叉熵）：\n",
    "$$ H\\left(\\boldsymbol{y}^{(i)}, \\hat{\\boldsymbol{y}}^{(i)}\\right)=-\\sum_{j=1}^{q} y_{j}^{(i)} \\log \\hat{y}_{j}^{(i)} $$\n",
    "观察公式，交叉熵只关注正确类别的预测概率。\n",
    "交叉熵的直观理解是：如果预测类别j=2的概率为0.2（即j=2预测y=0），但是实际上j=2是正确的标签（y=1），则交叉熵将会很大。"
   ]
  },
  {
   "cell_type": "markdown",
   "id": "8ab0604a",
   "metadata": {},
   "source": [
    "# 其余笔记在goodNotes"
   ]
  }
 ],
 "metadata": {
  "kernelspec": {
   "display_name": "Python 3",
   "language": "python",
   "name": "python3"
  },
  "language_info": {
   "codemirror_mode": {
    "name": "ipython",
    "version": 3
   },
   "file_extension": ".py",
   "mimetype": "text/x-python",
   "name": "python",
   "nbconvert_exporter": "python",
   "pygments_lexer": "ipython3",
   "version": "3.8.8"
  }
 },
 "nbformat": 4,
 "nbformat_minor": 5
}
