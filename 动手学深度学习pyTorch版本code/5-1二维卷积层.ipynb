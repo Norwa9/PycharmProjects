{
 "cells": [
  {
   "cell_type": "markdown",
   "metadata": {},
   "source": [
    "卷积神经网络（convolutional neural network）是含有卷积层（convolutional layer）的神经网络。\n",
    "\n",
    "卷积运算==互相关运算"
   ]
  },
  {
   "cell_type": "markdown",
   "metadata": {},
   "source": [
    "# 二维互相关运算\n",
    "输入：二维数组(**输入数组**)+二维核(kernel)数组（**卷积核/过滤器**）\n",
    "\n",
    "输出：二维数组（**卷积核窗口/卷积窗口**）"
   ]
  },
  {
   "cell_type": "code",
   "execution_count": 3,
   "metadata": {},
   "outputs": [],
   "source": [
    "import torch\n",
    "from torch import nn\n",
    "\n",
    "def corr2d(X,K):\n",
    "    h, w = K.shape #卷积核的高、宽\n",
    "    \n",
    "    # Y输出：卷积核窗口\n",
    "    Y = torch.zeros((X.shape[0]- h + 1, X.shape[1] - w + 1)) \n",
    "    \n",
    "    \n",
    "    for i in range(Y.shape[0]):\n",
    "        for j in range(Y.shape[1]):\n",
    "            Y[i,j] = (X[i: i+h, j:j+w] * K).sum()\n",
    "    return Y"
   ]
  },
  {
   "cell_type": "code",
   "execution_count": 4,
   "metadata": {},
   "outputs": [
    {
     "data": {
      "text/plain": [
       "tensor([[19., 25.],\n",
       "        [37., 43.]])"
      ]
     },
     "execution_count": 4,
     "metadata": {},
     "output_type": "execute_result"
    }
   ],
   "source": [
    "X = torch.tensor([[0, 1, 2], [3, 4, 5], [6, 7, 8]])\n",
    "K = torch.tensor([[0, 1], [2, 3]])\n",
    "corr2d(X, K)"
   ]
  },
  {
   "cell_type": "markdown",
   "metadata": {},
   "source": [
    "# 二维卷积层\n",
    "二维卷积层将输入和卷积核做互相关运算，并加上一个标量偏差bias来得到输出。\n",
    "\n",
    "参数：卷积核+bias常数\n",
    "初始化：随机初始化卷积核"
   ]
  },
  {
   "cell_type": "code",
   "execution_count": 17,
   "metadata": {},
   "outputs": [],
   "source": [
    "# 自定义二维卷积层\n",
    "class Conv2D(nn.Module):\n",
    "    def __init__(self,kernel_size):\n",
    "        super(Conv2D,self).__init__()\n",
    "        # Parameter是Tensor实例，不同的是，Parameter实例会自动添加到模型的参数列表\n",
    "        self.weight = nn.Parameter(torch.randn(kernel_size))\n",
    "        self.bias = nn.Parameter(torch.randn(1))\n",
    "        \n",
    "    def forward(self,x):\n",
    "        y = corr2d(x,self.weight) + self.bias\n",
    "        return y"
   ]
  },
  {
   "cell_type": "markdown",
   "metadata": {},
   "source": [
    "# 图像物体边缘检测"
   ]
  },
  {
   "cell_type": "code",
   "execution_count": 11,
   "metadata": {},
   "outputs": [
    {
     "name": "stdout",
     "output_type": "stream",
     "text": [
      "tensor([[ 0.,  1.,  0.,  0.,  0., -1.,  0.],\n",
      "        [ 0.,  1.,  0.,  0.,  0., -1.,  0.],\n",
      "        [ 0.,  1.,  0.,  0.,  0., -1.,  0.],\n",
      "        [ 0.,  1.,  0.,  0.,  0., -1.,  0.],\n",
      "        [ 0.,  1.,  0.,  0.,  0., -1.,  0.],\n",
      "        [ 0.,  1.,  0.,  0.,  0., -1.,  0.]])\n"
     ]
    }
   ],
   "source": [
    "# 构建6x8的图像，中间4列为黑色（0）\n",
    "X = torch.ones(6, 8)\n",
    "X[:, 2:6] = 0\n",
    "\n",
    "# 构造1x2的卷积核\n",
    "K = torch.tensor([[1,-1]]) # 互相关运算时，如果横向相邻元素相同，输出为0，反之输出为1\n",
    "\n",
    "# 输入数组与卷积核作互相关运算\n",
    "Y = corr2d(X,K)\n",
    "print(Y)"
   ]
  },
  {
   "cell_type": "markdown",
   "metadata": {},
   "source": [
    "**我们可以看出，卷积层可通过重复使用卷积核有效地表征局部空间。**"
   ]
  },
  {
   "cell_type": "markdown",
   "metadata": {},
   "source": [
    "# 通过数据学习核数组"
   ]
  },
  {
   "cell_type": "code",
   "execution_count": 21,
   "metadata": {},
   "outputs": [
    {
     "name": "stdout",
     "output_type": "stream",
     "text": [
      "Step 5, loss 11.450\n",
      "Step 10, loss 3.175\n",
      "Step 15, loss 0.883\n",
      "Step 20, loss 0.246\n",
      "Step 25, loss 0.068\n",
      "Step 30, loss 0.019\n",
      "Step 35, loss 0.005\n",
      "Step 40, loss 0.001\n",
      "Step 45, loss 0.000\n",
      "Step 50, loss 0.000\n",
      "Step 55, loss 0.000\n",
      "Step 60, loss 0.000\n",
      "Step 65, loss 0.000\n",
      "Step 70, loss 0.000\n",
      "Step 75, loss 0.000\n",
      "Step 80, loss 0.000\n",
      "Step 85, loss 0.000\n",
      "Step 90, loss 0.000\n",
      "Step 95, loss 0.000\n",
      "Step 100, loss 0.000\n"
     ]
    }
   ],
   "source": [
    "# 构造一个核数组形状是(1, 2)的二维卷积层\n",
    "# 其中随机初始化了1x2的卷积核\n",
    "conv2d = Conv2D(kernel_size=(1, 2))\n",
    "\n",
    "step = 100\n",
    "lr = 0.01\n",
    "for i in range(step):\n",
    "    Y_hat = conv2d(X)\n",
    "    l = ((Y_hat - Y) ** 2).sum()\n",
    "    \n",
    "    l.backward() # 计算参数梯度\n",
    "\n",
    "    # 梯度下降\n",
    "    conv2d.weight.data -= lr * conv2d.weight.grad\n",
    "    conv2d.bias.data -= lr * conv2d.bias.grad\n",
    "\n",
    "    # 梯度清0\n",
    "    conv2d.weight.grad.fill_(0)\n",
    "    conv2d.bias.grad.fill_(0)\n",
    "    if (i + 1) % 5 == 0:\n",
    "        print('Step %d, loss %.3f' % (i + 1, l.item()))\n"
   ]
  },
  {
   "cell_type": "code",
   "execution_count": 22,
   "metadata": {},
   "outputs": [
    {
     "name": "stdout",
     "output_type": "stream",
     "text": [
      "tensor([[ 1.0000, -1.0000]])\n",
      "tensor([-6.5536e-14])\n"
     ]
    }
   ],
   "source": [
    "print(conv2d.weight.data)\n",
    "print(conv2d.bias.data)"
   ]
  },
  {
   "cell_type": "markdown",
   "metadata": {},
   "source": [
    "# 互相关运算和卷积运算"
   ]
  },
  {
   "cell_type": "code",
   "execution_count": null,
   "metadata": {},
   "outputs": [],
   "source": []
  },
  {
   "cell_type": "markdown",
   "metadata": {},
   "source": [
    "# 特征图和感受野"
   ]
  },
  {
   "cell_type": "markdown",
   "metadata": {},
   "source": [
    "**特征图feature map**：二维卷积层输出的二维数据叫做特征图。可以看做是输入在空间维度上某一级的表征。\n",
    "\n",
    "**感受野**：影响元素x的前向计算的所有可能输入区域（可能大于输入的实际尺寸）叫做\n",
    "x的感受野(receptive field)\n",
    "例如本节例子，输出中的阴影部分（1个格子）的感受野是输入中的阴影部分（4个格子）。\n",
    "\n",
    "如果记输出为Y，然后再添加一层卷积层，将Y与另一个2x2的核数组作互相关运算，输出大小为1x1的Z。那么Z的感受野，就是输入X的所有格子（9个）"
   ]
  },
  {
   "cell_type": "code",
   "execution_count": null,
   "metadata": {},
   "outputs": [],
   "source": []
  },
  {
   "cell_type": "code",
   "execution_count": null,
   "metadata": {},
   "outputs": [],
   "source": []
  },
  {
   "cell_type": "code",
   "execution_count": null,
   "metadata": {},
   "outputs": [],
   "source": []
  },
  {
   "cell_type": "code",
   "execution_count": null,
   "metadata": {},
   "outputs": [],
   "source": []
  }
 ],
 "metadata": {
  "kernelspec": {
   "display_name": "Python 3",
   "language": "python",
   "name": "python3"
  },
  "language_info": {
   "codemirror_mode": {
    "name": "ipython",
    "version": 3
   },
   "file_extension": ".py",
   "mimetype": "text/x-python",
   "name": "python",
   "nbconvert_exporter": "python",
   "pygments_lexer": "ipython3",
   "version": "3.8.3"
  }
 },
 "nbformat": 4,
 "nbformat_minor": 4
}
