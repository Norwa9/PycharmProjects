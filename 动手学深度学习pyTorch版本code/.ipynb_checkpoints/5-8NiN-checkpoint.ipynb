{
 "cells": [
  {
   "cell_type": "markdown",
   "metadata": {},
   "source": [
    "# NiN块\n",
    "NiN块是NiN中的基础块，由一个卷积层+两个充当全连接层的1x1卷积层串联而成。"
   ]
  },
  {
   "cell_type": "code",
   "execution_count": 2,
   "metadata": {},
   "outputs": [],
   "source": [
    "import time\n",
    "import torch\n",
    "from torch import nn, optim\n",
    "\n",
    "import sys\n",
    "sys.path.append(\"..\") \n",
    "import d2lzh_pytorch as d2l\n",
    "device = torch.device('cuda' if torch.cuda.is_available() else 'cpu')\n",
    "\n",
    "def nin_block(in_channels, out_channels, kernel_size, stride, padding):\n",
    "    blk = nn.Sequential(\n",
    "        nn.Conv2d(in_channels, out_channels, kernel_size, stride, padding), # 卷积层 \n",
    "        nn.ReLU(),\n",
    "        nn.Conv2d(out_channels, out_channels, kernel_size=1), # 1x1卷积层\n",
    "        nn.ReLU(),\n",
    "        nn.Conv2d(out_channels, out_channels, kernel_size=1), # 1x1卷积层\n",
    "        nn.ReLU())\n",
    "    return blk\n"
   ]
  },
  {
   "cell_type": "markdown",
   "metadata": {},
   "source": [
    "# 全局池化层\n",
    "全局平均池化层可通过将池化窗口形状设置成输入的高和宽实现"
   ]
  },
  {
   "cell_type": "code",
   "execution_count": 6,
   "metadata": {},
   "outputs": [],
   "source": [
    "import torch.nn.functional as F\n",
    "\n",
    "class GlobalAvgPool2d(nn.Module):\n",
    "    # 全局平均池化层可通过将池化窗口形状设置成输入的高和宽实现\n",
    "    def __init__(self):\n",
    "        super(GlobalAvgPool2d,self).__init__()\n",
    "    \n",
    "    def forward(self,x):\n",
    "        # x.size() = [1, 10, 5, 5]\n",
    "        # x.size()[2:] = [5,5]\n",
    "        return F.avg_pool2d(x,kernel_size = x.size()[2:])"
   ]
  },
  {
   "cell_type": "code",
   "execution_count": 7,
   "metadata": {},
   "outputs": [],
   "source": [
    "net = nn.Sequential(\n",
    "    nin_block(1, 96, kernel_size=11, stride=4, padding=0),\n",
    "    nn.MaxPool2d(kernel_size=3, stride=2),\n",
    "    nin_block(96, 256, kernel_size=5, stride=1, padding=2),\n",
    "    nn.MaxPool2d(kernel_size=3, stride=2),\n",
    "    nin_block(256, 384, kernel_size=3, stride=1, padding=1),\n",
    "    nn.MaxPool2d(kernel_size=3, stride=2), \n",
    "    nn.Dropout(0.5),\n",
    "    # 标签类别数是10\n",
    "    nin_block(384, 10, kernel_size=3, stride=1, padding=1),\n",
    "    # 使用全局平均池化层对每个通道(10个)中所有元素求平均\n",
    "    GlobalAvgPool2d(), \n",
    "    # 将四维的输出转成二维的输出，其形状为(批量大小, 10)\n",
    "    d2l.FlattenLayer())"
   ]
  },
  {
   "cell_type": "markdown",
   "metadata": {},
   "source": [
    "构建一个数据样本来查看每一层的输出形状："
   ]
  },
  {
   "cell_type": "code",
   "execution_count": 11,
   "metadata": {},
   "outputs": [
    {
     "name": "stdout",
     "output_type": "stream",
     "text": [
      "0 output shape:  torch.Size([2, 96, 54, 54])\n",
      "1 output shape:  torch.Size([2, 96, 26, 26])\n",
      "2 output shape:  torch.Size([2, 256, 26, 26])\n",
      "3 output shape:  torch.Size([2, 256, 12, 12])\n",
      "4 output shape:  torch.Size([2, 384, 12, 12])\n",
      "5 output shape:  torch.Size([2, 384, 5, 5])\n",
      "6 output shape:  torch.Size([2, 384, 5, 5])\n",
      "7 output shape:  torch.Size([2, 10, 5, 5])\n",
      "8 output shape:  torch.Size([2, 10, 1, 1])\n",
      "9 output shape:  torch.Size([2, 10])\n"
     ]
    }
   ],
   "source": [
    "X = torch.rand(2, 1, 224, 224) #batch_size = 2 , channels = 1 , width = 224, height = 224\n",
    "for name, blk in net.named_children(): \n",
    "    X = blk(X)\n",
    "    print(name, 'output shape: ', X.shape)\n",
    "    \n"
   ]
  }
 ],
 "metadata": {
  "kernelspec": {
   "display_name": "Python 3",
   "language": "python",
   "name": "python3"
  },
  "language_info": {
   "codemirror_mode": {
    "name": "ipython",
    "version": 3
   },
   "file_extension": ".py",
   "mimetype": "text/x-python",
   "name": "python",
   "nbconvert_exporter": "python",
   "pygments_lexer": "ipython3",
   "version": "3.8.3"
  }
 },
 "nbformat": 4,
 "nbformat_minor": 4
}
