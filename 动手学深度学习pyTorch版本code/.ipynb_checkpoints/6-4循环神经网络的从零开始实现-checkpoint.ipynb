{
 "cells": [
  {
   "cell_type": "code",
   "execution_count": 7,
   "metadata": {},
   "outputs": [],
   "source": [
    "import time\n",
    "import math\n",
    "import numpy as np\n",
    "import torch\n",
    "from torch import nn, optim\n",
    "import torch.nn.functional as F\n",
    "import zipfile\n",
    "\n",
    "import sys\n",
    "sys.path.append(\"..\") \n",
    "import d2lzh_pytorch as d2l\n",
    "device = torch.device('cuda' if torch.cuda.is_available() else 'cpu')"
   ]
  },
  {
   "cell_type": "code",
   "execution_count": 126,
   "metadata": {},
   "outputs": [],
   "source": [
    "def load_data_jay_lyrics():\n",
    "    \"\"\"加载周杰伦歌词数据集\"\"\"\n",
    "    with zipfile.ZipFile('data/jaychou_lyrics.txt.zip') as zin:\n",
    "        with zin.open('jaychou_lyrics.txt') as f:\n",
    "            corpus_chars = f.read().decode('utf-8')\n",
    "    corpus_chars = corpus_chars.replace('\\n', ' ').replace('\\r', ' ')\n",
    "    corpus_chars = corpus_chars[0:10000]\n",
    "    idx_to_char = list(set(corpus_chars))\n",
    "    char_to_idx = dict([(char, i) for i, char in enumerate(idx_to_char)])\n",
    "    vocab_size = len(char_to_idx)\n",
    "    corpus_indices = [char_to_idx[char] for char in corpus_chars]\n",
    "    return corpus_indices, char_to_idx, idx_to_char, vocab_size\n",
    "\n",
    "(corpus_indices, char_to_idx, idx_to_char, vocab_size) = load_data_jay_lyrics()"
   ]
  },
  {
   "cell_type": "markdown",
   "metadata": {},
   "source": [
    "# onehot向量"
   ]
  },
  {
   "cell_type": "code",
   "execution_count": 129,
   "metadata": {},
   "outputs": [
    {
     "name": "stdout",
     "output_type": "stream",
     "text": [
      "tensor([[1., 0., 0.,  ..., 0., 0., 0.],\n",
      "        [0., 0., 1.,  ..., 0., 0., 0.]])\n"
     ]
    }
   ],
   "source": [
    "# 输入x，将x转换为宽度为n_class的onehot表示\n",
    "def onehot(x,n_class,dtype=torch.float32):\n",
    "    x = x.long()\n",
    "    res = torch.zeros(x.shape[0],n_class,dtype = dtype, device = x.device)\n",
    "    res.scatter_(1,x.view(-1,1),1) #\n",
    "    return res\n",
    "\n",
    "x = torch.tensor([0,2])\n",
    "\n",
    "print(onehot(x,vocab_size))"
   ]
  },
  {
   "cell_type": "code",
   "execution_count": 130,
   "metadata": {},
   "outputs": [],
   "source": [
    "# X：(批量大小 x 时间步数)\n",
    "# Y：(批量大小 x 词典大小)，矩阵个数n等于时间步数\n",
    "def to_onehot(X,n_class):\n",
    "    res_list = [onehot(X[:,i], n_class) for i in range(X.shape[1])]\n",
    "    return res_list"
   ]
  },
  {
   "cell_type": "markdown",
   "metadata": {},
   "source": [
    "如下例：\n",
    "\n",
    "输入形状为 2 x 5，也就是2个序列样本，每个有5个时间步。\n",
    "\n",
    "对于小批量的一个时间步（一列数据），对应一列标签。\n",
    "\n",
    "将这列标签进行onehot转换，输出一个onehot矩阵。\n",
    "\n",
    "5列都转换，就输出5个矩阵。"
   ]
  },
  {
   "cell_type": "code",
   "execution_count": 131,
   "metadata": {},
   "outputs": [
    {
     "name": "stdout",
     "output_type": "stream",
     "text": [
      "len(inputs): 5\n",
      "inputs[0].shape: torch.Size([2, 1027])\n"
     ]
    }
   ],
   "source": [
    "# 例子\n",
    "X = torch.arange(10).view(2,5)\n",
    "inputs = to_onehot(X, vocab_size)\n",
    "# 输出5个矩阵，每个矩阵的形状为(2 x 1027)\n",
    "print('len(inputs):',len(inputs))\n",
    "print('inputs[0].shape:',inputs[0].shape)"
   ]
  },
  {
   "cell_type": "markdown",
   "metadata": {},
   "source": [
    "# 初始化模型参数\n",
    "隐藏单元个数num_hiddens是一个超参数"
   ]
  },
  {
   "cell_type": "code",
   "execution_count": 132,
   "metadata": {},
   "outputs": [
    {
     "name": "stdout",
     "output_type": "stream",
     "text": [
      "will use cpu\n"
     ]
    }
   ],
   "source": [
    "num_inputs, num_hiddens, num_outputs = vocab_size, 256, vocab_size\n",
    "\n",
    "print('will use', device)\n",
    "\n",
    "def get_params():\n",
    "    # 参数初始化：随机初始化特定形状的矩阵\n",
    "    def _one(shape):\n",
    "        ts = torch.tensor(np.random.normal(0,0.01,size = shape), device = device,dtype=torch.float32)\n",
    "        return torch.nn.Parameter(ts,requires_grad=True)\n",
    "     \n",
    "    # 隐藏层参数\n",
    "    W_xh = _one((num_inputs,num_hiddens))\n",
    "    W_hh = _one((num_hiddens,num_hiddens))\n",
    "    b_h = torch.nn.Parameter(torch.zeros(num_hiddens,device=device, requires_grad = True))# 偏差初始化为0\n",
    "    # 输出层参数\n",
    "    W_hq = _one((num_hiddens,num_outputs))\n",
    "    b_q = torch.nn.Parameter(torch.zeros(num_outputs,device=device, requires_grad = True))# 偏差初始化为0\n",
    "    return nn.ParameterList([W_xh,W_hh,b_h,W_hq,b_q])\n"
   ]
  },
  {
   "cell_type": "markdown",
   "metadata": {},
   "source": [
    "# 定义模型"
   ]
  },
  {
   "cell_type": "markdown",
   "metadata": {},
   "source": [
    "### 初始化隐藏状态\n",
    "\n",
    "因为RNN中每个神经元接受上一个时间步的隐藏状态作为一个输入。\n",
    "\n",
    "\n",
    "所以要为这一输入进行初始化。\n",
    "\n",
    "因为隐藏状态已经过了隐藏层的计算，所以它的形状是(batch_size x num_hiddens)"
   ]
  },
  {
   "cell_type": "code",
   "execution_count": 133,
   "metadata": {},
   "outputs": [],
   "source": [
    "def init_rnn_state(batch_size, num_hiddens, device):\n",
    "    # 它返回由一个形状为(批量大小, 隐藏单元个数)的值为0的NDArray组成的元组。\n",
    "    # 使用元组，是为了更方便处理隐藏状态含有多个NDArray的情况。\n",
    "    return (torch.zeros((batch_size, num_hiddens), device=device), )"
   ]
  },
  {
   "cell_type": "markdown",
   "metadata": {},
   "source": [
    "下面，\n",
    "### 定义在一个时间步里计算隐藏状态和输出的计算方式："
   ]
  },
  {
   "cell_type": "code",
   "execution_count": 134,
   "metadata": {},
   "outputs": [],
   "source": [
    "def rnn(inputs, state, params):\n",
    "    W_xh, W_hh, b_h, W_hq, b_q = params\n",
    "    H, = state\n",
    "    outputs = []\n",
    "    for X in inputs:\n",
    "        # tanh激活函数：当元素在实数域上均匀分布，tanh函数的均值为0\n",
    "        # H : (batch_size x num_hiddens)\n",
    "        H = torch.tanh(torch.matmul(X,W_xh) + torch.matmul(H, W_hh) + b_h)\n",
    "        Y = torch.matmul(H, W_hq) + b_q\n",
    "        outputs.append(Y)\n",
    "    return outputs, (H,) # 输出、隐藏状态"
   ]
  },
  {
   "cell_type": "markdown",
   "metadata": {},
   "source": [
    "测试观察输出的结果个数（时间步数），\n",
    "\n",
    "以及测试第一个时间步的输出层输出的形状和隐藏状态的形状："
   ]
  },
  {
   "cell_type": "code",
   "execution_count": 135,
   "metadata": {},
   "outputs": [
    {
     "name": "stdout",
     "output_type": "stream",
     "text": [
      "len(outputs): 5\n",
      "outputs[0].shape: torch.Size([2, 1027])\n",
      "outputs[0].argmax(dim=1): tensor([701, 537])\n",
      "len(state_new): 1\n",
      "state_new[0].shape: torch.Size([2, 256])\n"
     ]
    }
   ],
   "source": [
    "state = init_rnn_state(X.shape[0], num_hiddens, device)\n",
    "inputs = to_onehot(X.to(device), vocab_size)\n",
    "params = get_params()\n",
    "outputs, state_new = rnn(inputs, state, params)\n",
    "print('len(outputs):',len(outputs))\n",
    "print('outputs[0].shape:',outputs[0].shape)\n",
    "print('outputs[0].argmax(dim=1):',outputs[0].argmax(dim=1))\n",
    "print('len(state_new):',len(state_new))\n",
    "print('state_new[0].shape:',state_new[0].shape)"
   ]
  },
  {
   "cell_type": "markdown",
   "metadata": {},
   "source": [
    "# 定义预测函数"
   ]
  },
  {
   "cell_type": "markdown",
   "metadata": {},
   "source": [
    "以下函数基于前缀prefix（含有数个字符的字符串）来预测接下来的num_chars个字符"
   ]
  },
  {
   "cell_type": "code",
   "execution_count": 136,
   "metadata": {},
   "outputs": [],
   "source": [
    "def predict_rnn(prefix, num_chars, rnn, params, init_rnn_state,\n",
    "               num_hiddens, vocab_size, device, idx_to_char, char_to_idx):\n",
    "    \n",
    "    state = init_rnn_state(1, num_hiddens, device) # batch_size = 1\n",
    "    output = [char_to_idx[prefix[0]]]\n",
    "    \n",
    "    # 每个时间步输入一个字符，计算隐藏状态和输出，隐藏状态将被输入到下一个时间步\n",
    "    for t in range(num_chars + len(prefix) - 1):\n",
    "        # 将上一时间步的输出作为当前时间步的输入\n",
    "        # X : (1 x vocab_size)\n",
    "        X = to_onehot(torch.tensor([[output[-1]]], device=device), vocab_size)\n",
    "        # 计算输出和更新隐藏状态\n",
    "        (Y, state) = rnn(X, state, params)\n",
    "        # 下一个时间步的输入是prefix里的字符或者当前的最佳预测字符\n",
    "        if t < len(prefix) - 1:\n",
    "            output.append(char_to_idx[prefix[t + 1]])\n",
    "        else:\n",
    "            output.append(int(Y[0].argmax(dim=1).item()))\n",
    "    return ''.join([idx_to_char[i] for i in output])"
   ]
  },
  {
   "cell_type": "markdown",
   "metadata": {},
   "source": [
    "我们根据前缀\"分开\"创作长度为10个字符（不考虑前缀长度）的一段歌词，\n",
    "\n",
    "因为参数是随机初始化的，所以预测结果也是随机的。"
   ]
  },
  {
   "cell_type": "code",
   "execution_count": 137,
   "metadata": {},
   "outputs": [
    {
     "data": {
      "text/plain": [
       "'分开型秀福运音性怯着完引'"
      ]
     },
     "execution_count": 137,
     "metadata": {},
     "output_type": "execute_result"
    }
   ],
   "source": [
    "predict_rnn('分开', 10, rnn, params, init_rnn_state, num_hiddens, vocab_size,\n",
    "            device, idx_to_char, char_to_idx)\n"
   ]
  },
  {
   "cell_type": "markdown",
   "metadata": {},
   "source": [
    "# 裁剪梯度"
   ]
  },
  {
   "cell_type": "markdown",
   "metadata": {},
   "source": [
    "循环神经网络容易出现梯度衰减，或梯度爆炸。\n",
    "\n",
    "为了应对梯度爆炸， 我们可以裁剪梯度。\n",
    "\n",
    "假设我们把所有的模型参数梯度的元素拼接成一个向量g，并设裁剪的阈值是θ，裁剪后的梯度为：\n",
    "\n",
    "$$ \\min \\left(\\frac{\\theta}{\\|\\boldsymbol{g}\\|}, 1\\right) \\boldsymbol{g} $$\n",
    "\n",
    "其L2范数不超过θ。"
   ]
  },
  {
   "cell_type": "code",
   "execution_count": 144,
   "metadata": {},
   "outputs": [],
   "source": [
    "# 本函数已保存在d2lzh_pytorch包中方便以后使用\n",
    "def grad_clipping(params, theta, device):\n",
    "    norm = torch.tensor([0.0], device=device)\n",
    "    for param in params:\n",
    "        norm += (param.grad.data ** 2).sum()\n",
    "    norm = norm.sqrt().item()\n",
    "    if norm > theta:\n",
    "        for param in params:\n",
    "            param.grad.data *= (theta / norm)\n"
   ]
  },
  {
   "cell_type": "markdown",
   "metadata": {},
   "source": [
    "# 困惑度perplexity"
   ]
  },
  {
   "cell_type": "markdown",
   "metadata": {},
   "source": [
    "我们通常使用困惑度perplexity来评价语言模型的好坏。\n",
    "\n",
    "困惑度是对交叉熵损失函数做指数运算后得到的值：\n",
    "\n",
    "$$ e^{Loss_{avg}} $$\n",
    "\n",
    "1. 最佳情况下，模型总是把标签的类别的概率预测为1，此时困惑度为1；loss=0,e^0=1\n",
    "2. 最坏情况下，模型总是把标签类别的概率预测为0，此时困惑度为正无穷；\n",
    "3. 基线情况下，模型总是预测所有类别的概率都相同，此时困惑度为类别个数。\n",
    "\n",
    "所以，任何一个**有效模型的困惑度必须小于类别个数**。在本例中，困惑度必须小于词典大小vocab_size。"
   ]
  },
  {
   "cell_type": "markdown",
   "metadata": {},
   "source": [
    "# 定义模型训练函数"
   ]
  },
  {
   "cell_type": "markdown",
   "metadata": {},
   "source": [
    "与之前CNN等神经网络不同的是：\n",
    "1. 使用困惑度评价模型\n",
    "2. 在迭代模型参数前裁剪梯度\n",
    "3. 对时序数据采用不同采样方法（随机采样or相邻采样）将导致隐藏状态初始化的不同。"
   ]
  },
  {
   "cell_type": "code",
   "execution_count": 148,
   "metadata": {},
   "outputs": [],
   "source": [
    "def train_and_predict_rnn(rnn, get_params, init_rnn_state, num_hiddens,\n",
    "                         vocab_size, device, corpus_indices, idx_to_char,\n",
    "                         char_to_idx, is_random_iter, num_epochs, num_steps,\n",
    "                         lr, clipping_theta, batch_size, pred_peroid,\n",
    "                         pred_len, prefixes):\n",
    "    # 若采用随机采样\n",
    "    if is_random_iter:\n",
    "        data_iter_fn = d2l.data_iter_random\n",
    "    else:\n",
    "        data_iter_fn = d2l.data_iter_consecutive\n",
    "    \n",
    "    params = get_params() # 随机初始化模型参数\n",
    "    \n",
    "    loss = nn.CrossEntropyLoss() # 定义损失函数：交叉熵损失\n",
    "    \n",
    "    for epoch in range(num_epochs):\n",
    "        # 如使用相邻采样，在epoch开始时初始化隐藏状态\n",
    "        if not is_random_iter:\n",
    "            state = init_rnn_state(batch_size, num_hiddens, device)\n",
    "            \n",
    "        l_sum, n , start = 0.0, 0, time.time()\n",
    "        # 读取数据\n",
    "        # batch_size：一批次序列样本的数量 \n",
    "        # num_steps：时间步，也就是字数\n",
    "        data_iter = data_iter_fn(corpus_indices, batch_size, num_steps, device)\n",
    "        for X,Y in data_iter:\n",
    "            # 如使用随机采样，在每个小批量更新前初始化隐藏状态\n",
    "            # 因为随机采样前后两个小批量不是相连的，所以前一个小批量的最终时间步的隐藏状态不能初始化下一个小批量的隐藏状态\n",
    "            if is_random_iter:\n",
    "                state = init_rnn_state(batch_size, num_hiddens, device)\n",
    "            else:\n",
    "            # 否则需要使用detach函数从计算图分离隐藏状态，\n",
    "            # 这是为了使模型参数的梯度计算只依赖一次迭代读取的小批量序列（防止梯度计算开销太大）\n",
    "                for s in state:\n",
    "                    s.detach_()\n",
    "            \n",
    "            # inputs: 数组，有num_steps个形状为(batch_size , vocab_size)的矩阵\n",
    "            inputs = to_onehot(X, vocab_size)\n",
    "            \n",
    "            # outpus：数组，有num_steps个形状为(batch_size , vocab_size)的矩阵\n",
    "            (outputs, state) = rnn(inputs, state, params)\n",
    "            \n",
    "            # 拼接后，形状为(num_steps * batch_size , vocab_size)\n",
    "            outputs = torch.cat(outputs, dim = 0)\n",
    "            \n",
    "            # Y是标签，是相应X中时间步的下一个时间步\n",
    "            # transpose()交换一个tensor的两个维度 \n",
    "            # contiguous()类似深拷贝\n",
    "            # Y的形状是(batch_size, num_steps),转置后再变为长度为\n",
    "            # batch * num_steps的向量，这样跟输出的行一一对应\n",
    "            y = torch.transpose(Y,0,1).contiguous().view(-1) \n",
    "            \n",
    "            # 使用交叉熵损失计算平均分类误差\n",
    "            l = loss(outputs, y.long())\n",
    "            \n",
    "            # 梯度清零\n",
    "            if params[0].grad is not None:\n",
    "                for param in params:\n",
    "                    param.grad.data.zero_()\n",
    "            \n",
    "            l.backward()\n",
    "            \n",
    "            grad_clipping(params, clipping_theta, device) # 裁剪梯度\n",
    "            d2l.sgd(params, lr ,1) # batch_size = 1,因为误差已经取过均值，梯度不用再做平均\n",
    "            # 求一个batch的总误差\n",
    "            l_sum += l.item() * y.shape[0] # y.shape[0] = batch * num_steps，为一个批量的总字符数\n",
    "            n += y.shape[0]\n",
    "            \n",
    "        # 每pred_peroid个周期就进行一次歌词创作\n",
    "        if (epoch + 1) % pred_peroid == 0:\n",
    "            print('epoch %d, perplexity %f, time %.2f sec' % (\n",
    "                epoch + 1, math.exp(l_sum / n), time.time() - start))\n",
    "            for prefix in prefixes:\n",
    "                # 根据前缀prefix，创作出pred_len长度的歌词。\n",
    "                print(' -', predict_rnn(prefix, pred_len, rnn, params, init_rnn_state,\n",
    "                    num_hiddens, vocab_size, device, idx_to_char, char_to_idx))"
   ]
  },
  {
   "cell_type": "markdown",
   "metadata": {},
   "source": [
    "转置Y"
   ]
  },
  {
   "cell_type": "code",
   "execution_count": 156,
   "metadata": {},
   "outputs": [
    {
     "name": "stdout",
     "output_type": "stream",
     "text": [
      "tensor([[0, 1, 3, 5],\n",
      "        [0, 2, 4, 6]])\n",
      "tensor([[0, 1, 3, 5],\n",
      "        [0, 2, 4, 6]])\n",
      "tensor([0, 1, 3, 5, 0, 2, 4, 6])\n"
     ]
    }
   ],
   "source": [
    "Y = torch.tensor([\n",
    "    [0,0],\n",
    "    [1,2],\n",
    "    [3,4],\n",
    "    [5,6]\n",
    "                 ])\n",
    "y1 = torch.transpose(Y,0,1)\n",
    "y2 = torch.transpose(Y,0,1).contiguous()\n",
    "y3 = torch.transpose(Y,0,1).contiguous().view(-1) # view(-1)转成1维\n",
    "print(y1)\n",
    "print(y2)\n",
    "print(y3)"
   ]
  },
  {
   "cell_type": "markdown",
   "metadata": {},
   "source": [
    "# 训练模型并创作歌词\n",
    "分别根据前缀'分开'和'不分开'分别创作长度为50个字符（不考虑前缀长度）的一段歌词。\n",
    "\n",
    "我们每过50个迭代周期便根据当前训练的模型创作一段歌词。"
   ]
  },
  {
   "cell_type": "code",
   "execution_count": 149,
   "metadata": {},
   "outputs": [],
   "source": [
    "num_epochs, num_steps, batch_size, lr, clipping_theta = 250, 35, 32, 1e2, 1e-2\n",
    "pred_period, pred_len, prefixes = 50, 50, ['分开', '不分开']"
   ]
  },
  {
   "cell_type": "code",
   "execution_count": 146,
   "metadata": {},
   "outputs": [
    {
     "name": "stdout",
     "output_type": "stream",
     "text": [
      "epoch 50, perplexity 67.179438, time 0.57 sec\n",
      " - 分开 我想要你的 快在人 一颗两人三  说 我不 我不 我不 我不 我不要再想 我不要再想 我不 我想 \n",
      " - 不分开 快使的让我疯狂的可爱女人 温坏的让我疯狂的可爱女人 温坏的让我疯狂的可爱女人 温坏的让我疯狂的可爱\n",
      "epoch 100, perplexity 9.565857, time 0.60 sec\n",
      " - 分开 娘子在不截  后悔你对我 别子可红 我 一场热口 我该了这生活 后知后觉 我该好好生活 我知道好生\n",
      " - 不分开吗 我爱你的生活 不知不觉 你已经离节  后知不觉 我已经好节  没有你在我有多烦熬多 恼在 在爱了\n",
      "epoch 150, perplexity 2.752668, time 0.61 sec\n",
      " - 分开 一直用人留棍的话斑鸠 印力安老 我知到好生活 我该要好生活 不知不觉 你已经离开我 不知不觉 我跟\n",
      " - 不分开吗 我不能再想你 不知不觉 你已经离开我 不知不觉 我跟了这节奏 后知后觉 又知了觉 如果耿容 你去\n",
      "epoch 200, perplexity 1.558713, time 0.60 sec\n",
      " - 分开 一直在人留 谁让它停留的 为什么我女朋友场外加油 你却还让我出糗 却小就耳濡目染 什么刀枪跟棍棒 \n",
      " - 不分开期 我不能再想 我不 我不 我不能 爱情走的太快就像龙卷风 不能承受我已无处可躲 我不要再想 我不 \n",
      "epoch 250, perplexity 1.286473, time 0.58 sec\n",
      " - 分开 那子她人哭 谁话都满留的 为什么我女朋友场外加油 你却还让我出糗 却小就耳濡路怎么找也找不着 心血\n",
      " - 不分开吗 我叫你爸 你打我妈 这样对吗干嘛这样 何必让酒牵鼻子走 瞎 说着睡口阳光 我 想和你看棒我 我这\n"
     ]
    }
   ],
   "source": [
    "train_and_predict_rnn(rnn, get_params, init_rnn_state, num_hiddens,\n",
    "                      vocab_size, device, corpus_indices, idx_to_char,\n",
    "                      char_to_idx, True, num_epochs, num_steps, lr,\n",
    "                      clipping_theta, batch_size, pred_period, pred_len,\n",
    "                      prefixes)\n"
   ]
  },
  {
   "cell_type": "code",
   "execution_count": 147,
   "metadata": {},
   "outputs": [
    {
     "name": "stdout",
     "output_type": "stream",
     "text": [
      "epoch 50, perplexity 60.260159, time 0.59 sec\n",
      " - 分开 我想要这爱 我不能再不 我不能再想 我不要再不 我不能再想 我不要再不 我不能再想 我不要再不 我\n",
      " - 不分开 我想要你不 我不能再想 我不能再不 我不能再想 我不要再不 我不能再想 我不要再不 我不能再想 我\n",
      "epoch 100, perplexity 7.436199, time 0.58 sec\n",
      " - 分开 我想要这爱你 我爱你烦你都是不着到剧 你在个文 在小村外的溪边 默默好待 一颗心人 在真在抽 你边\n",
      " - 不分开 我不要的生写 我爱你 你爱我 我想就这样布 一你的停留 谁非过 旧果我的见有 有话人对医药箱说 别\n",
      "epoch 150, perplexity 2.090803, time 0.62 sec\n",
      " - 分开 我给要这样牵着你的手不放开 爱可不可以简简单单没有伤害 你 靠着我的肩膀 你 在我胸口睡著 像这样\n",
      " - 不分开 你经我这想想是 说你开 干什么 东亚我一脚踢可 快使用双截棍 哼哼哈兮 快使用双截棍 哼哼哈兮 快\n",
      "epoch 200, perplexity 1.318331, time 0.59 sec\n",
      " - 分开 我想能再想你 你知不悄 满脸风霜落寞 近乡情怯的我 相思寄红豆 相思寄红豆无能为力的在人海中漂泊心\n",
      " - 不分开 你静我有想想你 说那个 在什么 气被我一脚踢开 快使用双截棍 哼哼哈兮 快使用双截棍 哼哼哈兮 如\n",
      "epoch 250, perplexity 1.170246, time 0.57 sec\n",
      " - 分开 我不要这样了 静静不觉默默离开 陷入了危险边缘B 瞎们我都格得想要阻说句 我在妈这生里 开静悄悄默\n",
      " - 不分开 你经我不想痛 我说是一去很 静果我一见你是一场悲剧 我想我这辈子注定一个人演戏 最后再一个人慢慢的\n"
     ]
    }
   ],
   "source": [
    "train_and_predict_rnn(rnn, get_params, init_rnn_state, num_hiddens,\n",
    "                      vocab_size, device, corpus_indices, idx_to_char,\n",
    "                      char_to_idx, False, num_epochs, num_steps, lr,\n",
    "                      clipping_theta, batch_size, pred_period, pred_len,\n",
    "                      prefixes)"
   ]
  }
 ],
 "metadata": {
  "kernelspec": {
   "display_name": "Python 3",
   "language": "python",
   "name": "python3"
  },
  "language_info": {
   "codemirror_mode": {
    "name": "ipython",
    "version": 3
   },
   "file_extension": ".py",
   "mimetype": "text/x-python",
   "name": "python",
   "nbconvert_exporter": "python",
   "pygments_lexer": "ipython3",
   "version": "3.8.3"
  }
 },
 "nbformat": 4,
 "nbformat_minor": 4
}
