{
 "cells": [
  {
   "cell_type": "markdown",
   "metadata": {},
   "source": [
    "在大规模语料上预训练好的词向量可以应用于下游的自然语言处理任务"
   ]
  },
  {
   "cell_type": "code",
   "execution_count": 1,
   "metadata": {},
   "outputs": [
    {
     "name": "stdout",
     "output_type": "stream",
     "text": [
      "Requirement already satisfied: torchtext in /opt/anaconda3/lib/python3.8/site-packages (0.8.0)\n",
      "Requirement already satisfied: torch in /opt/anaconda3/lib/python3.8/site-packages (from torchtext) (1.9.0)\n",
      "Requirement already satisfied: requests in /opt/anaconda3/lib/python3.8/site-packages (from torchtext) (2.24.0)\n",
      "Requirement already satisfied: numpy in /opt/anaconda3/lib/python3.8/site-packages (from torchtext) (1.19.5)\n",
      "Requirement already satisfied: tqdm in /opt/anaconda3/lib/python3.8/site-packages (from torchtext) (4.47.0)\n",
      "Requirement already satisfied: typing-extensions in /opt/anaconda3/lib/python3.8/site-packages (from torch->torchtext) (3.7.4.2)\n",
      "Requirement already satisfied: idna<3,>=2.5 in /opt/anaconda3/lib/python3.8/site-packages (from requests->torchtext) (2.10)\n",
      "Requirement already satisfied: chardet<4,>=3.0.2 in /opt/anaconda3/lib/python3.8/site-packages (from requests->torchtext) (3.0.4)\n",
      "Requirement already satisfied: certifi>=2017.4.17 in /opt/anaconda3/lib/python3.8/site-packages (from requests->torchtext) (2020.6.20)\n",
      "Requirement already satisfied: urllib3!=1.25.0,!=1.25.1,<1.26,>=1.21.1 in /opt/anaconda3/lib/python3.8/site-packages (from requests->torchtext) (1.25.9)\n"
     ]
    }
   ],
   "source": [
    "!pip install torchtext"
   ]
  },
  {
   "cell_type": "code",
   "execution_count": 3,
   "metadata": {},
   "outputs": [
    {
     "data": {
      "text/plain": [
       "dict_keys(['charngram.100d', 'fasttext.en.300d', 'fasttext.simple.300d', 'glove.42B.300d', 'glove.840B.300d', 'glove.twitter.27B.25d', 'glove.twitter.27B.50d', 'glove.twitter.27B.100d', 'glove.twitter.27B.200d', 'glove.6B.50d', 'glove.6B.100d', 'glove.6B.200d', 'glove.6B.300d'])"
      ]
     },
     "execution_count": 3,
     "metadata": {},
     "output_type": "execute_result"
    }
   ],
   "source": [
    "import torch\n",
    "import torchtext.vocab as vocab\n",
    "\n",
    "# 查看提供的预训练词嵌入的名称。\n",
    "vocab.pretrained_aliases.keys()"
   ]
  },
  {
   "cell_type": "markdown",
   "metadata": {},
   "source": [
    "查看glove词嵌入提供的预训练模型\n",
    "\n",
    "预训练的GLoVe模型的命名规范：模型.（数据集.）数据集词数.词向量维度"
   ]
  },
  {
   "cell_type": "code",
   "execution_count": 5,
   "metadata": {},
   "outputs": [
    {
     "data": {
      "text/plain": [
       "['glove.42B.300d',\n",
       " 'glove.840B.300d',\n",
       " 'glove.twitter.27B.25d',\n",
       " 'glove.twitter.27B.50d',\n",
       " 'glove.twitter.27B.100d',\n",
       " 'glove.twitter.27B.200d',\n",
       " 'glove.6B.50d',\n",
       " 'glove.6B.100d',\n",
       " 'glove.6B.200d',\n",
       " 'glove.6B.300d']"
      ]
     },
     "execution_count": 5,
     "metadata": {},
     "output_type": "execute_result"
    }
   ],
   "source": [
    "glove = [key for key in vocab.pretrained_aliases.keys() if \"glove\" in key]\n",
    "glove"
   ]
  },
  {
   "cell_type": "markdown",
   "metadata": {},
   "source": [
    "第一次创建预训练词向量实例时会自动下载相应的词向量到cache指定文件夹（默认为.vector_cache），因此需要联网。"
   ]
  },
  {
   "cell_type": "code",
   "execution_count": 43,
   "metadata": {},
   "outputs": [
    {
     "name": "stderr",
     "output_type": "stream",
     "text": [
      "100%|█████████▉| 399999/400000 [00:11<00:00, 34588.61it/s]\n"
     ]
    }
   ],
   "source": [
    "cache_dir = \"/Users/luowei/PycharmProjects/动手学深度学习pyTorch版本code/data/cache\"\n",
    "# glove = vocab.pretrained_aliases[\"glove.6B.50d\"](cache=cache_dir)\n",
    "glove = vocab.GloVe(name='6B', dim=50, cache=cache_dir) # 与上面等价"
   ]
  },
  {
   "cell_type": "markdown",
   "metadata": {},
   "source": [
    "# 使用glove实例的属性：\n",
    "\n",
    "1. stoi：词到索引的字典\n",
    "2. itos：索引到词的映射（列表）\n",
    "3. vectors：词向量"
   ]
  },
  {
   "cell_type": "code",
   "execution_count": 131,
   "metadata": {},
   "outputs": [
    {
     "name": "stdout",
     "output_type": "stream",
     "text": [
      "总词数: 400000\n",
      "W的维度： torch.Size([400000, 50])\n"
     ]
    }
   ],
   "source": [
    "# 总词数\n",
    "print('总词数:',len(glove.stoi))\n",
    "\n",
    "print('W的维度：',glove.vectors.shape)"
   ]
  },
  {
   "cell_type": "code",
   "execution_count": 72,
   "metadata": {},
   "outputs": [
    {
     "name": "stdout",
     "output_type": "stream",
     "text": [
      "300 man\n",
      "tensor([-0.0944,  0.4301, -0.1722, -0.4553,  1.6447,  0.4033, -0.3726,  0.2507,\n",
      "        -0.1059,  0.1078, -0.1085,  0.1518, -0.6540,  0.5505,  0.5959, -0.4628,\n",
      "         0.1185,  0.6445, -0.7095,  0.2395, -0.8291,  1.2720,  0.0330,  0.2935,\n",
      "         0.3911, -2.8094, -0.7074,  0.4106,  0.3894, -0.2913,  2.6124, -0.3458,\n",
      "        -0.1683,  0.2515,  0.3122,  0.3164,  0.1254, -0.0126,  0.2230, -0.5659,\n",
      "        -0.0863,  0.6255, -0.0576,  0.2937,  0.6600, -0.5311, -0.4823, -0.9793,\n",
      "         0.5314, -0.1173])\n"
     ]
    }
   ],
   "source": [
    "index = glove.stoi['man']\n",
    "word = glove.itos[i]\n",
    "vector = glove.vectors[index]\n",
    "\n",
    "print(index,word)\n",
    "print(vector)"
   ]
  },
  {
   "cell_type": "markdown",
   "metadata": {},
   "source": [
    "# 应用预训练的词向量"
   ]
  },
  {
   "cell_type": "markdown",
   "metadata": {},
   "source": [
    "# 求k近邻\n",
    "作用：在嵌入空间embed中寻找离x最近的k个向量。"
   ]
  },
  {
   "cell_type": "code",
   "execution_count": 134,
   "metadata": {},
   "outputs": [],
   "source": [
    "def knn(W, x, k):\n",
    "    # 添加1e-9是为了数值的稳定性\n",
    "    # W中每一行都是一个词的词向量，与\n",
    "    cos = torch.matmul(W, x.view((-1,)))/ (\n",
    "        (torch.sum(W*W, dim=1) + 1e-9).sqrt() * torch.sum(x*x).sqrt()\n",
    "    )\n",
    "    print('x.shape',x.shape)\n",
    "    print('x.view((-1,)).shape',x.view((-1,)).shape)\n",
    "    _, topk = torch.topk(cos, k=k)\n",
    "    topk = topk.cpu().numpy()\n",
    "    return topk, [cos[i].item() for i in topk]"
   ]
  },
  {
   "cell_type": "markdown",
   "metadata": {},
   "source": [
    "x.view((-1,))的理解：将x转换为行向量"
   ]
  },
  {
   "cell_type": "code",
   "execution_count": 103,
   "metadata": {},
   "outputs": [
    {
     "name": "stdout",
     "output_type": "stream",
     "text": [
      "torch.Size([16])\n",
      "torch.Size([1, 16])\n",
      "tensor(1)\n",
      "torch.Size([16])\n",
      "tensor(1)\n"
     ]
    }
   ],
   "source": [
    "a = torch.arange(1, 17)\n",
    "b = a.reshape(1,16)\n",
    "c = a.view((-1,))\n",
    "d = a.view((-1)) # d和c等价\n",
    "e = torch.matmul(a,b.T)\n",
    "print(a.shape)\n",
    "print(b.shape) # b:matrix\n",
    "print(b[0][0])\n",
    "print(c.shape) # a:list\n",
    "print(a[0])"
   ]
  },
  {
   "cell_type": "code",
   "execution_count": 124,
   "metadata": {},
   "outputs": [
    {
     "name": "stdout",
     "output_type": "stream",
     "text": [
      "tensor([[ 1,  2,  3,  4],\n",
      "        [ 5,  6,  7,  8],\n",
      "        [ 9, 10, 11, 12],\n",
      "        [13, 14, 15, 16]])\n",
      "tensor([1, 2, 3, 4])\n",
      "tensor([ 30,  70, 110, 150])\n"
     ]
    }
   ],
   "source": [
    "W = torch.arange(1, 17).reshape(4,4)\n",
    "x = [1,2,3,4]\n",
    "x = torch.tensor(x,dtype=torch.long).view(-1,)\n",
    "res = torch.matmul(W,x.T)\n",
    "print(W)\n",
    "print(x)\n",
    "print(res)"
   ]
  },
  {
   "cell_type": "markdown",
   "metadata": {},
   "source": [
    "# 求近义词"
   ]
  },
  {
   "cell_type": "code",
   "execution_count": 45,
   "metadata": {},
   "outputs": [],
   "source": [
    "def get_similar_tokens(query_token, k ,embed):\n",
    "    topk, cos = knn(\n",
    "        embed.vectors,\n",
    "        embed.vectors[embed.stoi[query_token]],\n",
    "        k+1\n",
    "    )\n",
    "    for i, c in zip(topk[1:], cos[1:]): # 除去输入词\n",
    "        print('cosine sim=%3.f:%s' % (c, (embed.itos[i])))"
   ]
  },
  {
   "cell_type": "code",
   "execution_count": 65,
   "metadata": {},
   "outputs": [
    {
     "name": "stdout",
     "output_type": "stream",
     "text": [
      "cosine sim=  1:os\n",
      "cosine sim=  1:macintosh\n",
      "cosine sim=  1:pc\n"
     ]
    }
   ],
   "source": [
    "get_similar_tokens('mac',3,glove)"
   ]
  },
  {
   "cell_type": "markdown",
   "metadata": {},
   "source": [
    "# 求类比词"
   ]
  },
  {
   "cell_type": "markdown",
   "metadata": {},
   "source": [
    "类比关系：例如，“man”（男人）: “woman”（女人）:: “son”（儿子） : “daughter”（女儿）是一个类比例子：“man”之于“woman”相当于“son”之于“daughter”。\n",
    "\n",
    "求类比词的问题可以定义为：**对于类比关系中的四个词，给定前3个词a，b，c求d。**\n",
    "\n",
    "思路：搜索与vec(c) + vec(b) - vec(a)的结果向量最相似的词向量"
   ]
  },
  {
   "cell_type": "code",
   "execution_count": 74,
   "metadata": {},
   "outputs": [],
   "source": [
    "def get_analogy(token_a, token_b, token_c, embed):\n",
    "    vecs = [embed.vectors[embed.stoi[t]]\n",
    "                for t in [token_a, token_b, token_c]]\n",
    "    \n",
    "    x = vecs[1] - vecs[0] + vecs[2]\n",
    "    topk, cos = knn(embed.vectors, x, 1)\n",
    "    return embed.itos[topk[0]]"
   ]
  },
  {
   "cell_type": "code",
   "execution_count": 135,
   "metadata": {},
   "outputs": [
    {
     "name": "stdout",
     "output_type": "stream",
     "text": [
      "x.shape torch.Size([50])\n",
      "x.view((-1,)).shape torch.Size([50])\n"
     ]
    },
    {
     "data": {
      "text/plain": [
       "'daughter'"
      ]
     },
     "execution_count": 135,
     "metadata": {},
     "output_type": "execute_result"
    }
   ],
   "source": [
    "# 男-女类比\n",
    "get_analogy('man', 'woman', 'son', glove) # 'daughter'"
   ]
  },
  {
   "cell_type": "code",
   "execution_count": 91,
   "metadata": {},
   "outputs": [
    {
     "data": {
      "text/plain": [
       "'russia'"
      ]
     },
     "execution_count": 91,
     "metadata": {},
     "output_type": "execute_result"
    }
   ],
   "source": [
    "# 首都-国家类比\n",
    "get_analogy('beijing', 'china', 'moscow', glove) # 'daughter'"
   ]
  },
  {
   "cell_type": "code",
   "execution_count": 92,
   "metadata": {},
   "outputs": [
    {
     "data": {
      "text/plain": [
       "'biggest'"
      ]
     },
     "execution_count": 92,
     "metadata": {},
     "output_type": "execute_result"
    }
   ],
   "source": [
    "# 形容词-形容词最高级类比\n",
    "get_analogy('bad', 'worst', 'big', glove) # 'biggest'"
   ]
  },
  {
   "cell_type": "code",
   "execution_count": 100,
   "metadata": {},
   "outputs": [
    {
     "data": {
      "text/plain": [
       "'had'"
      ]
     },
     "execution_count": 100,
     "metadata": {},
     "output_type": "execute_result"
    }
   ],
   "source": [
    "# 动词一般时-动词过去时类比\n",
    "get_analogy('do', 'did', 'have', glove) # 'biggest'"
   ]
  },
  {
   "cell_type": "code",
   "execution_count": null,
   "metadata": {},
   "outputs": [],
   "source": []
  },
  {
   "cell_type": "code",
   "execution_count": null,
   "metadata": {},
   "outputs": [],
   "source": []
  }
 ],
 "metadata": {
  "kernelspec": {
   "display_name": "Python 3",
   "language": "python",
   "name": "python3"
  },
  "language_info": {
   "codemirror_mode": {
    "name": "ipython",
    "version": 3
   },
   "file_extension": ".py",
   "mimetype": "text/x-python",
   "name": "python",
   "nbconvert_exporter": "python",
   "pygments_lexer": "ipython3",
   "version": "3.8.3"
  }
 },
 "nbformat": 4,
 "nbformat_minor": 4
}
